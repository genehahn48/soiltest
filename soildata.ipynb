{
 "cells": [
  {
   "cell_type": "markdown",
   "metadata": {},
   "source": [
    "# Wrangling Soil Test data from University of Kentucky's Soil Lab"
   ]
  },
  {
   "cell_type": "markdown",
   "metadata": {},
   "source": [
    "Use Microsoft Access to export data into CSV text file with FIPS code add and quary to select just County by County name. Export as soildata_fips.txt."
   ]
  },
  {
   "cell_type": "markdown",
   "metadata": {},
   "source": [
    "#### import python libraries"
   ]
  },
  {
   "cell_type": "code",
   "execution_count": 1,
   "metadata": {},
   "outputs": [],
   "source": [
    "import pandas as pd\n",
    "import numpy as np\n",
    "from pathlib import Path"
   ]
  },
  {
   "cell_type": "markdown",
   "metadata": {},
   "source": [
    "#### set file path to get data to work on"
   ]
  },
  {
   "cell_type": "code",
   "execution_count": 5,
   "metadata": {},
   "outputs": [],
   "source": [
    "filePath = Path('data')\n",
    "file_soil = filePath.joinpath('soildata_fips.txt')"
   ]
  },
  {
   "cell_type": "markdown",
   "metadata": {},
   "source": [
    "#### Read data into pandas"
   ]
  },
  {
   "cell_type": "code",
   "execution_count": 7,
   "metadata": {},
   "outputs": [],
   "source": [
    "soil = pd.read_csv(file_soil, dtype='str')"
   ]
  },
  {
   "cell_type": "markdown",
   "metadata": {},
   "source": [
    "#### Check that file is read into memory"
   ]
  },
  {
   "cell_type": "code",
   "execution_count": 8,
   "metadata": {},
   "outputs": [
    {
     "name": "stdout",
     "output_type": "stream",
     "text": [
      "<class 'pandas.core.frame.DataFrame'>\n",
      "RangeIndex: 1190126 entries, 0 to 1190125\n",
      "Data columns (total 14 columns):\n",
      " #   Column   Non-Null Count    Dtype \n",
      "---  ------   --------------    ----- \n",
      " 0   FIPS_NO  1190126 non-null  object\n",
      " 1   YEAR     1190126 non-null  object\n",
      " 2   FM       1190052 non-null  object\n",
      " 3   COUNTY   1190126 non-null  object\n",
      " 4   AREA     1190126 non-null  object\n",
      " 5   PH       1187607 non-null  object\n",
      " 6   BUPH     1056246 non-null  object\n",
      " 7   P        1187473 non-null  object\n",
      " 8   K        1187494 non-null  object\n",
      " 9   CA       969266 non-null   object\n",
      " 10  MG       969725 non-null   object\n",
      " 11  ZN       967041 non-null   object\n",
      " 12  ACRES    525128 non-null   object\n",
      " 13  CROP     1183431 non-null  object\n",
      "dtypes: object(14)\n",
      "memory usage: 127.1+ MB\n"
     ]
    }
   ],
   "source": [
    "soil.info()"
   ]
  },
  {
   "cell_type": "code",
   "execution_count": 17,
   "metadata": {},
   "outputs": [
    {
     "data": {
      "text/html": [
       "<div>\n",
       "<style scoped>\n",
       "    .dataframe tbody tr th:only-of-type {\n",
       "        vertical-align: middle;\n",
       "    }\n",
       "\n",
       "    .dataframe tbody tr th {\n",
       "        vertical-align: top;\n",
       "    }\n",
       "\n",
       "    .dataframe thead th {\n",
       "        text-align: right;\n",
       "    }\n",
       "</style>\n",
       "<table border=\"1\" class=\"dataframe\">\n",
       "  <thead>\n",
       "    <tr style=\"text-align: right;\">\n",
       "      <th></th>\n",
       "      <th>FIPS_NO</th>\n",
       "      <th>YEAR</th>\n",
       "      <th>FM</th>\n",
       "      <th>COUNTY</th>\n",
       "      <th>AREA</th>\n",
       "      <th>PH</th>\n",
       "      <th>BUPH</th>\n",
       "      <th>P</th>\n",
       "      <th>K</th>\n",
       "      <th>CA</th>\n",
       "      <th>MG</th>\n",
       "      <th>ZN</th>\n",
       "      <th>ACRES</th>\n",
       "      <th>CROP</th>\n",
       "    </tr>\n",
       "  </thead>\n",
       "  <tbody>\n",
       "    <tr>\n",
       "      <th>1190121</th>\n",
       "      <td>239.00</td>\n",
       "      <td>2019.00</td>\n",
       "      <td>A</td>\n",
       "      <td>WOODFORD</td>\n",
       "      <td>Bluegrass</td>\n",
       "      <td>5.00</td>\n",
       "      <td>6.30</td>\n",
       "      <td>62.00</td>\n",
       "      <td>319.00</td>\n",
       "      <td>1489.00</td>\n",
       "      <td>223.00</td>\n",
       "      <td>3.50</td>\n",
       "      <td>1.00</td>\n",
       "      <td>Wildlife Food Plot</td>\n",
       "    </tr>\n",
       "    <tr>\n",
       "      <th>1190122</th>\n",
       "      <td>239.00</td>\n",
       "      <td>2019.00</td>\n",
       "      <td>A</td>\n",
       "      <td>WOODFORD</td>\n",
       "      <td>Bluegrass</td>\n",
       "      <td>5.90</td>\n",
       "      <td>6.70</td>\n",
       "      <td>46.00</td>\n",
       "      <td>257.00</td>\n",
       "      <td>5247.00</td>\n",
       "      <td>268.00</td>\n",
       "      <td>2.10</td>\n",
       "      <td>2.00</td>\n",
       "      <td>Wildlife Food Plot</td>\n",
       "    </tr>\n",
       "    <tr>\n",
       "      <th>1190123</th>\n",
       "      <td>239.00</td>\n",
       "      <td>2019.00</td>\n",
       "      <td>A</td>\n",
       "      <td>WOODFORD</td>\n",
       "      <td>Bluegrass</td>\n",
       "      <td>6.80</td>\n",
       "      <td>7.00</td>\n",
       "      <td>75.00</td>\n",
       "      <td>243.00</td>\n",
       "      <td>12047.00</td>\n",
       "      <td>281.00</td>\n",
       "      <td>1.20</td>\n",
       "      <td>2.00</td>\n",
       "      <td>Wildlife Food Plot</td>\n",
       "    </tr>\n",
       "    <tr>\n",
       "      <th>1190124</th>\n",
       "      <td>239.00</td>\n",
       "      <td>2019.00</td>\n",
       "      <td>A</td>\n",
       "      <td>WOODFORD</td>\n",
       "      <td>Bluegrass</td>\n",
       "      <td>5.30</td>\n",
       "      <td>6.60</td>\n",
       "      <td>60.00</td>\n",
       "      <td>407.00</td>\n",
       "      <td>3304.00</td>\n",
       "      <td>396.00</td>\n",
       "      <td>2.80</td>\n",
       "      <td>NaN</td>\n",
       "      <td>Wildlife Food Plot</td>\n",
       "    </tr>\n",
       "    <tr>\n",
       "      <th>1190125</th>\n",
       "      <td>239.00</td>\n",
       "      <td>2019.00</td>\n",
       "      <td>A</td>\n",
       "      <td>WOODFORD</td>\n",
       "      <td>Bluegrass</td>\n",
       "      <td>5.00</td>\n",
       "      <td>6.30</td>\n",
       "      <td>59.00</td>\n",
       "      <td>377.00</td>\n",
       "      <td>4341.00</td>\n",
       "      <td>349.00</td>\n",
       "      <td>2.00</td>\n",
       "      <td>1.50</td>\n",
       "      <td>Wildlife Food Plot</td>\n",
       "    </tr>\n",
       "  </tbody>\n",
       "</table>\n",
       "</div>"
      ],
      "text/plain": [
       "        FIPS_NO     YEAR FM    COUNTY       AREA    PH  BUPH      P       K  \\\n",
       "1190121  239.00  2019.00  A  WOODFORD  Bluegrass  5.00  6.30  62.00  319.00   \n",
       "1190122  239.00  2019.00  A  WOODFORD  Bluegrass  5.90  6.70  46.00  257.00   \n",
       "1190123  239.00  2019.00  A  WOODFORD  Bluegrass  6.80  7.00  75.00  243.00   \n",
       "1190124  239.00  2019.00  A  WOODFORD  Bluegrass  5.30  6.60  60.00  407.00   \n",
       "1190125  239.00  2019.00  A  WOODFORD  Bluegrass  5.00  6.30  59.00  377.00   \n",
       "\n",
       "               CA      MG    ZN ACRES                CROP  \n",
       "1190121   1489.00  223.00  3.50  1.00  Wildlife Food Plot  \n",
       "1190122   5247.00  268.00  2.10  2.00  Wildlife Food Plot  \n",
       "1190123  12047.00  281.00  1.20  2.00  Wildlife Food Plot  \n",
       "1190124   3304.00  396.00  2.80   NaN  Wildlife Food Plot  \n",
       "1190125   4341.00  349.00  2.00  1.50  Wildlife Food Plot  "
      ]
     },
     "execution_count": 17,
     "metadata": {},
     "output_type": "execute_result"
    }
   ],
   "source": [
    "soil.tail()"
   ]
  },
  {
   "cell_type": "markdown",
   "metadata": {},
   "source": [
    "#### Need to convert FIPS_NO and Year to an Integer. Convert PH, BUPH, P, K, and Acres into Float type."
   ]
  },
  {
   "cell_type": "code",
   "execution_count": 19,
   "metadata": {},
   "outputs": [],
   "source": [
    "df = soil.copy()"
   ]
  },
  {
   "cell_type": "code",
   "execution_count": 29,
   "metadata": {},
   "outputs": [
    {
     "name": "stdout",
     "output_type": "stream",
     "text": [
      "<class 'pandas.core.frame.DataFrame'>\n",
      "RangeIndex: 1190126 entries, 0 to 1190125\n",
      "Data columns (total 14 columns):\n",
      " #   Column   Non-Null Count    Dtype  \n",
      "---  ------   --------------    -----  \n",
      " 0   FIPS_NO  1190126 non-null  float64\n",
      " 1   YEAR     1190126 non-null  float64\n",
      " 2   FM       1190052 non-null  object \n",
      " 3   COUNTY   1190126 non-null  object \n",
      " 4   AREA     1190126 non-null  object \n",
      " 5   PH       1187607 non-null  float64\n",
      " 6   BUPH     1056246 non-null  float64\n",
      " 7   P        1187473 non-null  float64\n",
      " 8   K        1187494 non-null  float64\n",
      " 9   CA       969266 non-null   object \n",
      " 10  MG       969725 non-null   object \n",
      " 11  ZN       967041 non-null   object \n",
      " 12  ACRES    525128 non-null   float64\n",
      " 13  CROP     1183431 non-null  object \n",
      "dtypes: float64(7), object(7)\n",
      "memory usage: 127.1+ MB\n"
     ]
    }
   ],
   "source": [
    "df.FIPS_NO = df.FIPS_NO.astype('float')\n",
    "df.YEAR = df.YEAR.astype('float')\n",
    "df.PH = df.PH.astype('float')\n",
    "df.BUPH = df.BUPH.astype('float')\n",
    "df.P = df.P.astype('float')\n",
    "df.K = df.K.astype('float')\n",
    "df.ACRES = df.ACRES.astype('float')\n",
    "df.info()"
   ]
  },
  {
   "cell_type": "markdown",
   "metadata": {},
   "source": [
    "#### First need to convert FIPS_NO and YEAR into Float type before they can be converted into int32."
   ]
  },
  {
   "cell_type": "code",
   "execution_count": 36,
   "metadata": {},
   "outputs": [],
   "source": [
    "df.FIPS_NO = df.FIPS_NO.astype('int32')\n",
    "df.YEAR = df.YEAR.astype('int32')"
   ]
  },
  {
   "cell_type": "code",
   "execution_count": 38,
   "metadata": {},
   "outputs": [
    {
     "name": "stdout",
     "output_type": "stream",
     "text": [
      "<class 'pandas.core.frame.DataFrame'>\n",
      "RangeIndex: 1190126 entries, 0 to 1190125\n",
      "Data columns (total 14 columns):\n",
      " #   Column   Non-Null Count    Dtype  \n",
      "---  ------   --------------    -----  \n",
      " 0   FIPS_NO  1190126 non-null  int32  \n",
      " 1   YEAR     1190126 non-null  int32  \n",
      " 2   FM       1190052 non-null  object \n",
      " 3   COUNTY   1190126 non-null  object \n",
      " 4   AREA     1190126 non-null  object \n",
      " 5   PH       1187607 non-null  float64\n",
      " 6   BUPH     1056246 non-null  float64\n",
      " 7   P        1187473 non-null  float64\n",
      " 8   K        1187494 non-null  float64\n",
      " 9   CA       969266 non-null   object \n",
      " 10  MG       969725 non-null   object \n",
      " 11  ZN       967041 non-null   object \n",
      " 12  ACRES    525128 non-null   float64\n",
      " 13  CROP     1183431 non-null  object \n",
      "dtypes: float64(5), int32(2), object(7)\n",
      "memory usage: 118.0+ MB\n"
     ]
    }
   ],
   "source": [
    "df.info()"
   ]
  },
  {
   "cell_type": "markdown",
   "metadata": {},
   "source": [
    "#### Drop CA, MG, ZN"
   ]
  },
  {
   "cell_type": "code",
   "execution_count": null,
   "metadata": {},
   "outputs": [],
   "source": []
  }
 ],
 "metadata": {
  "kernelspec": {
   "display_name": "Python 3",
   "language": "python",
   "name": "python3"
  },
  "language_info": {
   "codemirror_mode": {
    "name": "ipython",
    "version": 3
   },
   "file_extension": ".py",
   "mimetype": "text/x-python",
   "name": "python",
   "nbconvert_exporter": "python",
   "pygments_lexer": "ipython3",
   "version": "3.8.1"
  }
 },
 "nbformat": 4,
 "nbformat_minor": 4
}
