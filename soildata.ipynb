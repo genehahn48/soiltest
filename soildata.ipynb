{
 "cells": [
  {
   "cell_type": "markdown",
   "metadata": {},
   "source": [
    "# Wrangling Soil Test data from University of Kentucky's Soil Lab"
   ]
  },
  {
   "cell_type": "markdown",
   "metadata": {},
   "source": [
    "Use Microsoft Access to export data into CSV text file with FIPS code add and quary to select just County by County name. Export as soildata_fips.txt."
   ]
  },
  {
   "cell_type": "markdown",
   "metadata": {},
   "source": [
    "#### import python libraries"
   ]
  },
  {
   "cell_type": "code",
   "execution_count": null,
   "metadata": {},
   "outputs": [],
   "source": [
    "import pandas as pd\n",
    "import numpy as np\n",
    "from pathlib import Path\n",
    "import warnings"
   ]
  },
  {
   "cell_type": "markdown",
   "metadata": {},
   "source": [
    "#### set file path to get data to work on"
   ]
  },
  {
   "cell_type": "code",
   "execution_count": null,
   "metadata": {},
   "outputs": [],
   "source": [
    "filePath = Path('data')\n",
    "fileOut = Path('project-data')\n",
    "file_soil = filePath.joinpath('soildata_fips.txt')"
   ]
  },
  {
   "cell_type": "markdown",
   "metadata": {},
   "source": [
    "#### Read data into pandas"
   ]
  },
  {
   "cell_type": "code",
   "execution_count": null,
   "metadata": {},
   "outputs": [],
   "source": [
    "soil = pd.read_csv(file_soil, dtype='str')"
   ]
  },
  {
   "cell_type": "markdown",
   "metadata": {},
   "source": [
    "#### Check that file is read into memory"
   ]
  },
  {
   "cell_type": "code",
   "execution_count": null,
   "metadata": {},
   "outputs": [],
   "source": [
    "soil.info()"
   ]
  },
  {
   "cell_type": "code",
   "execution_count": null,
   "metadata": {},
   "outputs": [],
   "source": [
    "soil.tail()"
   ]
  },
  {
   "cell_type": "markdown",
   "metadata": {},
   "source": [
    "#### Remove decimal from FIPS_NO and Year, can't convert to an integer because of pivot table columns later in processing. Convert PH, BUPH, P, K, and Acres into Float type."
   ]
  },
  {
   "cell_type": "code",
   "execution_count": null,
   "metadata": {},
   "outputs": [],
   "source": [
    "df = soil.copy()"
   ]
  },
  {
   "cell_type": "code",
   "execution_count": null,
   "metadata": {},
   "outputs": [],
   "source": [
    "df.FIPS_NO = df.FIPS_NO.astype('str').replace('\\.00','',regex=True)\n",
    "df.YEAR = df.YEAR.astype('str').replace('\\.00','',regex=True)\n",
    "df.PH = df.PH.astype('float')\n",
    "df.BUPH = df.BUPH.astype('float')\n",
    "df.P = df.P.astype('float')\n",
    "df.K = df.K.astype('float')\n",
    "df.ACRES = df.ACRES.astype('float')\n",
    "df.info()"
   ]
  },
  {
   "cell_type": "code",
   "execution_count": null,
   "metadata": {},
   "outputs": [],
   "source": [
    "df.info()\n",
    "print(df.head())\n",
    "df.tail()"
   ]
  },
  {
   "cell_type": "code",
   "execution_count": null,
   "metadata": {},
   "outputs": [],
   "source": []
  },
  {
   "cell_type": "markdown",
   "metadata": {},
   "source": [
    "#### Drop CA, MG, ZN"
   ]
  },
  {
   "cell_type": "code",
   "execution_count": null,
   "metadata": {},
   "outputs": [],
   "source": [
    "df = df.drop(['CA','MG','ZN'], axis=1)"
   ]
  },
  {
   "cell_type": "code",
   "execution_count": null,
   "metadata": {},
   "outputs": [],
   "source": [
    "df.info()"
   ]
  },
  {
   "cell_type": "markdown",
   "metadata": {},
   "source": [
    "#### Check the maximum and minimum values for P and K "
   ]
  },
  {
   "cell_type": "code",
   "execution_count": null,
   "metadata": {},
   "outputs": [],
   "source": [
    "print(\"max P =\", df.P.max(), \"min P =\",df.P.min())\n",
    "print(\"max K\" , df.K.max(), \"min K =\", df.K.min())"
   ]
  },
  {
   "cell_type": "markdown",
   "metadata": {},
   "source": [
    "#### Remove values less than zero and above 9999"
   ]
  },
  {
   "cell_type": "code",
   "execution_count": null,
   "metadata": {},
   "outputs": [],
   "source": [
    "df = df[~(df['P'] < 0)]\n",
    "df = df[~(df['K'] < 0)]\n",
    "df = df[~(df['P'] >= 9999)]\n",
    "df = df[~(df['K'] >= 9999)]\n"
   ]
  },
  {
   "cell_type": "code",
   "execution_count": null,
   "metadata": {},
   "outputs": [],
   "source": [
    "print(\"max P =\", df.P.max(), \"min P =\",df.P.min())\n",
    "print(\"max K\" , df.K.max(), \"min K =\", df.K.min())"
   ]
  },
  {
   "cell_type": "markdown",
   "metadata": {},
   "source": [
    "#### Select agricultural \"A\" and commercial \"C\" types from FM column. Append df together."
   ]
  },
  {
   "cell_type": "code",
   "execution_count": null,
   "metadata": {},
   "outputs": [],
   "source": [
    "df1 = df.loc[(df['FM'] == 'A')]\n",
    "df2 = df.loc[(df['FM'] == 'C')]\n",
    "df3 = df1.append(df2, ignore_index=True)"
   ]
  },
  {
   "cell_type": "code",
   "execution_count": null,
   "metadata": {},
   "outputs": [],
   "source": [
    "print(df1.info())\n",
    "print(df2.info())\n",
    "print(df3.info())\n"
   ]
  },
  {
   "cell_type": "markdown",
   "metadata": {},
   "source": [
    "#### Drop null values from CROP, P, K."
   ]
  },
  {
   "cell_type": "code",
   "execution_count": null,
   "metadata": {},
   "outputs": [],
   "source": [
    "df3.drop(df3[df3['CROP'].isnull()].index, inplace=True)\n",
    "df3.drop(df3[df3['P'].isnull()].index, inplace=True)\n",
    "df3.drop(df3[df3['K'].isnull()].index, inplace=True)\n",
    "df3.info()"
   ]
  },
  {
   "cell_type": "code",
   "execution_count": null,
   "metadata": {},
   "outputs": [],
   "source": []
  },
  {
   "cell_type": "markdown",
   "metadata": {},
   "source": [
    "#### Resort and index dataframe."
   ]
  },
  {
   "cell_type": "code",
   "execution_count": null,
   "metadata": {},
   "outputs": [],
   "source": [
    "df = df3[['FIPS_NO','COUNTY','AREA','YEAR','CROP','ACRES', 'PH', 'BUPH', 'P', 'K', ]]\n",
    "order_by_cols = ['FIPS_NO','YEAR','CROP']\n",
    "df = df.sort_values(by=order_by_cols, ascending=[True,True,True]).copy()\n",
    "df.reset_index(drop=True,inplace=True)\n",
    "df.head()"
   ]
  },
  {
   "cell_type": "code",
   "execution_count": null,
   "metadata": {},
   "outputs": [],
   "source": [
    "df.info()"
   ]
  },
  {
   "cell_type": "markdown",
   "metadata": {},
   "source": [
    "#### Find unique CROP types. "
   ]
  },
  {
   "cell_type": "code",
   "execution_count": null,
   "metadata": {},
   "outputs": [],
   "source": [
    "croptypes = df.CROP.unique()\n",
    "croptypes"
   ]
  },
  {
   "cell_type": "markdown",
   "metadata": {},
   "source": [
    "## Select CROP based on AGR-1 crop types."
   ]
  },
  {
   "cell_type": "markdown",
   "metadata": {},
   "source": [
    "## Corn"
   ]
  },
  {
   "cell_type": "code",
   "execution_count": null,
   "metadata": {},
   "outputs": [],
   "source": [
    "df_corn = df.loc[(df['CROP'] == 'Corn')]\n",
    "print(df_corn.info())\n",
    "df_corn.head()"
   ]
  },
  {
   "cell_type": "markdown",
   "metadata": {},
   "source": [
    "#### Create dataframe for nutrients phosphorus (P) and potassium (K)."
   ]
  },
  {
   "cell_type": "code",
   "execution_count": null,
   "metadata": {},
   "outputs": [],
   "source": [
    "df_corn_nu = df_corn[['FIPS_NO','COUNTY','YEAR','P','K']].copy()\n",
    "print(df_corn_nu.head())\n"
   ]
  },
  {
   "cell_type": "markdown",
   "metadata": {},
   "source": [
    "#### Corn,  Set categories for P and K values to very low, low, medium, high, very high. Base values from AGR-1."
   ]
  },
  {
   "cell_type": "markdown",
   "metadata": {},
   "source": [
    "#### Categories for P\n",
    "        Cat      Title       Break\n",
    "        -------------------------------------\n",
    "        VL       very low    P<= 5\n",
    "        L        low         P>5 & P<=27\n",
    "        M        medium      P>27 & P<=60\n",
    "        H        high        P>60\n",
    "\n",
    "#### Categories for K\n",
    "        Cat      Title      Break\n",
    "       --------------------------------------\n",
    "        VL       very low   K< 100\n",
    "        L        low        K>=100 & K <=190\n",
    "        M        medium     K>=191 & K <=300\n",
    "        H        high       K>=301 & K <=420\n",
    "        VH       very high  K>420"
   ]
  },
  {
   "cell_type": "code",
   "execution_count": null,
   "metadata": {},
   "outputs": [],
   "source": [
    "df_corn_nu['CAT_P'] = ''\n",
    "df_corn_nu['CAT_P'] = np.where(df_corn_nu.P <= 5, 'VL', df_corn_nu.CAT_P)\n",
    "df_corn_nu['CAT_P'] = np.where(((df_corn_nu.P > 5) & (df_corn_nu.P <= 27)), 'L', df_corn_nu.CAT_P)\n",
    "df_corn_nu['CAT_P'] = np.where(((df_corn_nu.P > 27) & (df_corn_nu.P <= 60)), 'M', df_corn_nu.CAT_P)\n",
    "df_corn_nu['CAT_P'] = np.where((df_corn_nu.P > 60), 'H', df_corn_nu.CAT_P)\n",
    "df_corn_nu.head()"
   ]
  },
  {
   "cell_type": "code",
   "execution_count": null,
   "metadata": {},
   "outputs": [],
   "source": [
    "df_corn_nu['CAT_K'] = ''\n",
    "df_corn_nu['CAT_K'] = np.where(df_corn_nu.K <= 100, 'VL', df_corn_nu.CAT_K)\n",
    "df_corn_nu['CAT_K'] = np.where(((df_corn_nu.K > 100) & (df_corn_nu.K <= 190)), 'L', df_corn_nu.CAT_K)\n",
    "df_corn_nu['CAT_K'] = np.where(((df_corn_nu.K > 190) & (df_corn_nu.K <= 300)), 'M', df_corn_nu.CAT_K)\n",
    "df_corn_nu['CAT_K'] = np.where(((df_corn_nu.K > 300) & (df_corn_nu.K <= 420)), 'H', df_corn_nu.CAT_K)\n",
    "df_corn_nu['CAT_K'] = np.where((df_corn_nu.K > 420), 'VH', df_corn_nu.CAT_K)\n",
    "df_corn_nu.head()"
   ]
  },
  {
   "cell_type": "markdown",
   "metadata": {},
   "source": [
    "#### Create pivot table to sort categories by year and County for each nutrient."
   ]
  },
  {
   "cell_type": "code",
   "execution_count": null,
   "metadata": {},
   "outputs": [],
   "source": [
    "warnings.filterwarnings(\"ignore\")\n",
    "df_corn_p = np.round( df_corn_nu.pivot_table(index='COUNTY', columns=['YEAR', 'CAT_P'], values=['P'],aggfunc=(np.average,len),fill_value=0),2)\n",
    "df_corn_k = np.round( df_corn_nu.pivot_table(index='COUNTY', columns=['YEAR', 'CAT_K'], values=['K'],aggfunc=(np.average,len),fill_value=0),2)\n",
    "print(df_corn_p.head())\n",
    "print(df_corn_k.head())"
   ]
  },
  {
   "cell_type": "markdown",
   "metadata": {},
   "source": [
    "## Unpivot table and save to CSV file"
   ]
  },
  {
   "cell_type": "markdown",
   "metadata": {},
   "source": [
    "#### Create column names from pivot table data"
   ]
  },
  {
   "cell_type": "code",
   "execution_count": null,
   "metadata": {},
   "outputs": [],
   "source": [
    "df_corn_p.columns\n",
    "df_corn_k.columns"
   ]
  },
  {
   "cell_type": "code",
   "execution_count": null,
   "metadata": {},
   "outputs": [],
   "source": [
    "df_corn_p.columns = list(map(\"_\".join,df_corn_p.columns))\n",
    "df_corn_k.columns = list(map(\"_\".join,df_corn_k.columns))"
   ]
  },
  {
   "cell_type": "code",
   "execution_count": null,
   "metadata": {},
   "outputs": [],
   "source": [
    "print(df_corn_p.columns)\n",
    "print(df_corn_k.columns)"
   ]
  },
  {
   "cell_type": "code",
   "execution_count": null,
   "metadata": {},
   "outputs": [],
   "source": [
    "df_corn_p.columns = df_corn_p.columns.str.replace(\"P_average_\", \"\")\n",
    "df_corn_p.columns = df_corn_p.columns.str.replace(\"P_len\", \"count\")\n",
    "df_corn_k.columns = df_corn_k.columns.str.replace(\"K_average_\",\"\")\n",
    "df_corn_k.columns = df_corn_k.columns.str.replace(\"K_len\",\"count\")\n",
    "print(df_corn_p.columns)\n",
    "print(df_corn_k.columns)"
   ]
  },
  {
   "cell_type": "markdown",
   "metadata": {},
   "source": [
    "#### Reindex unpivot table "
   ]
  },
  {
   "cell_type": "code",
   "execution_count": null,
   "metadata": {},
   "outputs": [],
   "source": [
    "df_corn_p = df_corn_p.reset_index()\n",
    "df_corn_k = df_corn_k.reset_index()\n",
    "print(df_corn_p.head())\n",
    "print(df_corn_k.head())"
   ]
  },
  {
   "cell_type": "markdown",
   "metadata": {},
   "source": [
    "#### Save categorized data to file. Separate by crop and nutrient type (P and K) with count by category."
   ]
  },
  {
   "cell_type": "code",
   "execution_count": null,
   "metadata": {},
   "outputs": [],
   "source": [
    "file_out_p = fileOut.joinpath('corn_p_levels.csv')  # path and filename\n",
    "df_corn_p.to_csv(file_out_p, index=False)  # output to csv\n",
    "file_out_k = fileOut.joinpath('corn_k_levels.csv')  # path and filename\n",
    "df_corn_k.to_csv(file_out_k, index=False)  # output to csv\n",
    "print ('total number of records written to CSV:','{:,}'.format(len(df_corn_p)),'\\n')\n",
    "print ('total number of records written to CSV:','{:,}'.format(len(df_corn_k)),'\\n')"
   ]
  },
  {
   "cell_type": "markdown",
   "metadata": {},
   "source": [
    "## Soybeans"
   ]
  },
  {
   "cell_type": "markdown",
   "metadata": {},
   "source": [
    "#### Create list to select Soybeans from database."
   ]
  },
  {
   "cell_type": "code",
   "execution_count": null,
   "metadata": {},
   "outputs": [],
   "source": [
    "soy_sel = ['Soybeans', 'Small Grains/Soybeans', 'Wheat/Soybeans', 'Canola/Soybeans', 'Rye/Soybeans', 'Oats/Soybeans', 'Barley/Soybeans', 'Triticale/Soybeans']\n",
    "soy_sel.sort()\n",
    "print(soy_sel)"
   ]
  },
  {
   "cell_type": "markdown",
   "metadata": {},
   "source": [
    "#### Select soybeans from dataset."
   ]
  },
  {
   "cell_type": "code",
   "execution_count": null,
   "metadata": {},
   "outputs": [],
   "source": [
    "df_soy = df[df.CROP.isin(soy_sel)]\n",
    "df_soy_nu = df_soy[['FIPS_NO','COUNTY','YEAR','P','K']].copy()\n",
    "print(df_soy_nu.head())"
   ]
  },
  {
   "cell_type": "code",
   "execution_count": null,
   "metadata": {},
   "outputs": [],
   "source": []
  },
  {
   "cell_type": "markdown",
   "metadata": {},
   "source": [
    "#### Soybeans, Set categories for P and K values to very low, low, medium, high, very high. Base values from AGR-1."
   ]
  },
  {
   "cell_type": "markdown",
   "metadata": {},
   "source": [
    "#### Categories for P\n",
    "        Cat      Title       Break\n",
    "        -------------------------------------\n",
    "        VL       very low    P<= 5\n",
    "        L        low         P>5 & P<=27\n",
    "        M        medium      P>27 & P<=60\n",
    "        H        high        P>60\n",
    "\n",
    "#### Categories for K\n",
    "        Cat      Title      Break\n",
    "       --------------------------------------\n",
    "        VL       very low   K< 100\n",
    "        L        low        K>=100 & K <=190\n",
    "        M        medium     K>=191 & K <=300\n",
    "        H        high       K>300"
   ]
  },
  {
   "cell_type": "code",
   "execution_count": null,
   "metadata": {},
   "outputs": [],
   "source": [
    "df_soy_nu['CAT_P'] = ''\n",
    "df_soy_nu['CAT_P'] = np.where(df_soy_nu.P <= 5, 'VL', df_soy_nu.CAT_P)\n",
    "df_soy_nu['CAT_P'] = np.where(((df_soy_nu.P > 5) & (df_soy_nu.P <= 27)), 'L', df_soy_nu.CAT_P)\n",
    "df_soy_nu['CAT_P'] = np.where(((df_soy_nu.P > 27) & (df_soy_nu.P <= 60)), 'M', df_soy_nu.CAT_P)\n",
    "df_soy_nu['CAT_P'] = np.where((df_soy_nu.P > 60), 'H', df_soy_nu.CAT_P)\n",
    "df_soy_nu.head()\n",
    "df_soy_nu['CAT_K'] = ''\n",
    "df_soy_nu['CAT_K'] = np.where(df_soy_nu.K <= 99, 'VL', df_soy_nu.CAT_K)\n",
    "df_soy_nu['CAT_K'] = np.where(((df_soy_nu.K > 99) & (df_soy_nu.K <= 190)), 'L', df_soy_nu.CAT_K)\n",
    "df_soy_nu['CAT_K'] = np.where(((df_soy_nu.K > 190) & (df_soy_nu.K <= 300)), 'M', df_soy_nu.CAT_K)\n",
    "df_soy_nu['CAT_K'] = np.where(((df_soy_nu.K > 300) , 'H', df_soy_nu.CAT_K)\n",
    "df_soy_nu.head()"
   ]
  },
  {
   "cell_type": "code",
   "execution_count": null,
   "metadata": {},
   "outputs": [],
   "source": [
    "warnings.filterwarnings(\"ignore\")\n",
    "df_soy_p = np.round( df_soy_nu.pivot_table(index='COUNTY', columns=['YEAR', 'CAT_P'], values=['P'],aggfunc=(np.average,len),fill_value=0),2)\n",
    "df_soy_k = np.round( df_soy_nu.pivot_table(index='COUNTY', columns=['YEAR', 'CAT_K'], values=['K'],aggfunc=(np.average,len),fill_value=0),2)"
   ]
  },
  {
   "cell_type": "code",
   "execution_count": null,
   "metadata": {},
   "outputs": [],
   "source": [
    "df_soy_p.columns\n",
    "df_soy_k.columns\n",
    "df_soy_p.columns = list(map(\"_\".join,df_soy_p.columns))\n",
    "df_soy_k.columns = list(map(\"_\".join,df_soy_k.columns))\n",
    "df_soy_p.columns = df_soy_p.columns.str.replace(\"P_average_\", \"\")\n",
    "df_soy_p.columns = df_soy_p.columns.str.replace(\"P_len\", \"count\")\n",
    "df_soy_k.columns = df_soy_k.columns.str.replace(\"K_average_\",\"\")\n",
    "df_soy_k.columns = df_soy_k.columns.str.replace(\"K_len\",\"count\")\n",
    "df_soy_p = df_soy_p.reset_index()\n",
    "df_soy_k = df_soy_k.reset_index()\n",
    "file_out_p = fileOut.joinpath('soy_p_levels.csv')  # path and filename\n",
    "df_soy_p.to_csv(file_out_p, index=False)  # output to csv\n",
    "file_out_k = fileOut.joinpath('soy_k_levels.csv')  # path and filename\n",
    "df_soy_k.to_csv(file_out_k, index=False)  # output to csv\n",
    "print ('total number of records written to CSV:','{:,}'.format(len(df_soy_p)),'\\n')\n",
    "print ('total number of records written to CSV:','{:,}'.format(len(df_soy_k)),'\\n')"
   ]
  },
  {
   "cell_type": "code",
   "execution_count": null,
   "metadata": {},
   "outputs": [],
   "source": []
  },
  {
   "cell_type": "code",
   "execution_count": null,
   "metadata": {},
   "outputs": [],
   "source": []
  }
 ],
 "metadata": {
  "kernelspec": {
   "display_name": "Python 3",
   "language": "python",
   "name": "python3"
  },
  "language_info": {
   "codemirror_mode": {
    "name": "ipython",
    "version": 3
   },
   "file_extension": ".py",
   "mimetype": "text/x-python",
   "name": "python",
   "nbconvert_exporter": "python",
   "pygments_lexer": "ipython3",
   "version": "3.8.1"
  }
 },
 "nbformat": 4,
 "nbformat_minor": 4
}
