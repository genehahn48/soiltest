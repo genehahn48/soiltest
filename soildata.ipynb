{
 "cells": [
  {
   "cell_type": "markdown",
   "metadata": {},
   "source": [
    "# Wrangling Soil Test data from University of Kentucky's Soil Lab"
   ]
  },
  {
   "cell_type": "markdown",
   "metadata": {},
   "source": [
    "Use Microsoft Access to export data into CSV text file with FIPS code add and quary to select just County by County name. Export as soildata_fips.txt."
   ]
  },
  {
   "cell_type": "markdown",
   "metadata": {},
   "source": [
    "#### import python libraries"
   ]
  },
  {
   "cell_type": "code",
   "execution_count": 116,
   "metadata": {},
   "outputs": [],
   "source": [
    "import pandas as pd\n",
    "import numpy as np\n",
    "from pathlib import Path\n",
    "import warnings"
   ]
  },
  {
   "cell_type": "markdown",
   "metadata": {},
   "source": [
    "#### set file path to get data to work on"
   ]
  },
  {
   "cell_type": "code",
   "execution_count": 117,
   "metadata": {},
   "outputs": [],
   "source": [
    "filePath = Path('data')\n",
    "file_soil = filePath.joinpath('soildata_fips.txt')"
   ]
  },
  {
   "cell_type": "markdown",
   "metadata": {},
   "source": [
    "#### Read data into pandas"
   ]
  },
  {
   "cell_type": "code",
   "execution_count": 118,
   "metadata": {},
   "outputs": [],
   "source": [
    "soil = pd.read_csv(file_soil, dtype='str')"
   ]
  },
  {
   "cell_type": "markdown",
   "metadata": {},
   "source": [
    "#### Check that file is read into memory"
   ]
  },
  {
   "cell_type": "code",
   "execution_count": 119,
   "metadata": {},
   "outputs": [
    {
     "name": "stdout",
     "output_type": "stream",
     "text": [
      "<class 'pandas.core.frame.DataFrame'>\n",
      "RangeIndex: 1190126 entries, 0 to 1190125\n",
      "Data columns (total 14 columns):\n",
      " #   Column   Non-Null Count    Dtype \n",
      "---  ------   --------------    ----- \n",
      " 0   FIPS_NO  1190126 non-null  object\n",
      " 1   YEAR     1190126 non-null  object\n",
      " 2   FM       1190052 non-null  object\n",
      " 3   COUNTY   1190126 non-null  object\n",
      " 4   AREA     1190126 non-null  object\n",
      " 5   PH       1187607 non-null  object\n",
      " 6   BUPH     1056246 non-null  object\n",
      " 7   P        1187473 non-null  object\n",
      " 8   K        1187494 non-null  object\n",
      " 9   CA       969266 non-null   object\n",
      " 10  MG       969725 non-null   object\n",
      " 11  ZN       967041 non-null   object\n",
      " 12  ACRES    525128 non-null   object\n",
      " 13  CROP     1183431 non-null  object\n",
      "dtypes: object(14)\n",
      "memory usage: 127.1+ MB\n"
     ]
    }
   ],
   "source": [
    "soil.info()"
   ]
  },
  {
   "cell_type": "code",
   "execution_count": 120,
   "metadata": {},
   "outputs": [
    {
     "data": {
      "text/html": [
       "<div>\n",
       "<style scoped>\n",
       "    .dataframe tbody tr th:only-of-type {\n",
       "        vertical-align: middle;\n",
       "    }\n",
       "\n",
       "    .dataframe tbody tr th {\n",
       "        vertical-align: top;\n",
       "    }\n",
       "\n",
       "    .dataframe thead th {\n",
       "        text-align: right;\n",
       "    }\n",
       "</style>\n",
       "<table border=\"1\" class=\"dataframe\">\n",
       "  <thead>\n",
       "    <tr style=\"text-align: right;\">\n",
       "      <th></th>\n",
       "      <th>FIPS_NO</th>\n",
       "      <th>YEAR</th>\n",
       "      <th>FM</th>\n",
       "      <th>COUNTY</th>\n",
       "      <th>AREA</th>\n",
       "      <th>PH</th>\n",
       "      <th>BUPH</th>\n",
       "      <th>P</th>\n",
       "      <th>K</th>\n",
       "      <th>CA</th>\n",
       "      <th>MG</th>\n",
       "      <th>ZN</th>\n",
       "      <th>ACRES</th>\n",
       "      <th>CROP</th>\n",
       "    </tr>\n",
       "  </thead>\n",
       "  <tbody>\n",
       "    <tr>\n",
       "      <th>1190121</th>\n",
       "      <td>239.00</td>\n",
       "      <td>2019.00</td>\n",
       "      <td>A</td>\n",
       "      <td>WOODFORD</td>\n",
       "      <td>Bluegrass</td>\n",
       "      <td>5.00</td>\n",
       "      <td>6.30</td>\n",
       "      <td>62.00</td>\n",
       "      <td>319.00</td>\n",
       "      <td>1489.00</td>\n",
       "      <td>223.00</td>\n",
       "      <td>3.50</td>\n",
       "      <td>1.00</td>\n",
       "      <td>Wildlife Food Plot</td>\n",
       "    </tr>\n",
       "    <tr>\n",
       "      <th>1190122</th>\n",
       "      <td>239.00</td>\n",
       "      <td>2019.00</td>\n",
       "      <td>A</td>\n",
       "      <td>WOODFORD</td>\n",
       "      <td>Bluegrass</td>\n",
       "      <td>5.90</td>\n",
       "      <td>6.70</td>\n",
       "      <td>46.00</td>\n",
       "      <td>257.00</td>\n",
       "      <td>5247.00</td>\n",
       "      <td>268.00</td>\n",
       "      <td>2.10</td>\n",
       "      <td>2.00</td>\n",
       "      <td>Wildlife Food Plot</td>\n",
       "    </tr>\n",
       "    <tr>\n",
       "      <th>1190123</th>\n",
       "      <td>239.00</td>\n",
       "      <td>2019.00</td>\n",
       "      <td>A</td>\n",
       "      <td>WOODFORD</td>\n",
       "      <td>Bluegrass</td>\n",
       "      <td>6.80</td>\n",
       "      <td>7.00</td>\n",
       "      <td>75.00</td>\n",
       "      <td>243.00</td>\n",
       "      <td>12047.00</td>\n",
       "      <td>281.00</td>\n",
       "      <td>1.20</td>\n",
       "      <td>2.00</td>\n",
       "      <td>Wildlife Food Plot</td>\n",
       "    </tr>\n",
       "    <tr>\n",
       "      <th>1190124</th>\n",
       "      <td>239.00</td>\n",
       "      <td>2019.00</td>\n",
       "      <td>A</td>\n",
       "      <td>WOODFORD</td>\n",
       "      <td>Bluegrass</td>\n",
       "      <td>5.30</td>\n",
       "      <td>6.60</td>\n",
       "      <td>60.00</td>\n",
       "      <td>407.00</td>\n",
       "      <td>3304.00</td>\n",
       "      <td>396.00</td>\n",
       "      <td>2.80</td>\n",
       "      <td>NaN</td>\n",
       "      <td>Wildlife Food Plot</td>\n",
       "    </tr>\n",
       "    <tr>\n",
       "      <th>1190125</th>\n",
       "      <td>239.00</td>\n",
       "      <td>2019.00</td>\n",
       "      <td>A</td>\n",
       "      <td>WOODFORD</td>\n",
       "      <td>Bluegrass</td>\n",
       "      <td>5.00</td>\n",
       "      <td>6.30</td>\n",
       "      <td>59.00</td>\n",
       "      <td>377.00</td>\n",
       "      <td>4341.00</td>\n",
       "      <td>349.00</td>\n",
       "      <td>2.00</td>\n",
       "      <td>1.50</td>\n",
       "      <td>Wildlife Food Plot</td>\n",
       "    </tr>\n",
       "  </tbody>\n",
       "</table>\n",
       "</div>"
      ],
      "text/plain": [
       "        FIPS_NO     YEAR FM    COUNTY       AREA    PH  BUPH      P       K  \\\n",
       "1190121  239.00  2019.00  A  WOODFORD  Bluegrass  5.00  6.30  62.00  319.00   \n",
       "1190122  239.00  2019.00  A  WOODFORD  Bluegrass  5.90  6.70  46.00  257.00   \n",
       "1190123  239.00  2019.00  A  WOODFORD  Bluegrass  6.80  7.00  75.00  243.00   \n",
       "1190124  239.00  2019.00  A  WOODFORD  Bluegrass  5.30  6.60  60.00  407.00   \n",
       "1190125  239.00  2019.00  A  WOODFORD  Bluegrass  5.00  6.30  59.00  377.00   \n",
       "\n",
       "               CA      MG    ZN ACRES                CROP  \n",
       "1190121   1489.00  223.00  3.50  1.00  Wildlife Food Plot  \n",
       "1190122   5247.00  268.00  2.10  2.00  Wildlife Food Plot  \n",
       "1190123  12047.00  281.00  1.20  2.00  Wildlife Food Plot  \n",
       "1190124   3304.00  396.00  2.80   NaN  Wildlife Food Plot  \n",
       "1190125   4341.00  349.00  2.00  1.50  Wildlife Food Plot  "
      ]
     },
     "execution_count": 120,
     "metadata": {},
     "output_type": "execute_result"
    }
   ],
   "source": [
    "soil.tail()"
   ]
  },
  {
   "cell_type": "markdown",
   "metadata": {},
   "source": [
    "#### Need to convert FIPS_NO and Year to an Integer. Convert PH, BUPH, P, K, and Acres into Float type."
   ]
  },
  {
   "cell_type": "code",
   "execution_count": 121,
   "metadata": {},
   "outputs": [],
   "source": [
    "df = soil.copy()"
   ]
  },
  {
   "cell_type": "code",
   "execution_count": 122,
   "metadata": {},
   "outputs": [
    {
     "name": "stdout",
     "output_type": "stream",
     "text": [
      "<class 'pandas.core.frame.DataFrame'>\n",
      "RangeIndex: 1190126 entries, 0 to 1190125\n",
      "Data columns (total 14 columns):\n",
      " #   Column   Non-Null Count    Dtype  \n",
      "---  ------   --------------    -----  \n",
      " 0   FIPS_NO  1190126 non-null  float64\n",
      " 1   YEAR     1190126 non-null  float64\n",
      " 2   FM       1190052 non-null  object \n",
      " 3   COUNTY   1190126 non-null  object \n",
      " 4   AREA     1190126 non-null  object \n",
      " 5   PH       1187607 non-null  float64\n",
      " 6   BUPH     1056246 non-null  float64\n",
      " 7   P        1187473 non-null  float64\n",
      " 8   K        1187494 non-null  float64\n",
      " 9   CA       969266 non-null   object \n",
      " 10  MG       969725 non-null   object \n",
      " 11  ZN       967041 non-null   object \n",
      " 12  ACRES    525128 non-null   float64\n",
      " 13  CROP     1183431 non-null  object \n",
      "dtypes: float64(7), object(7)\n",
      "memory usage: 127.1+ MB\n"
     ]
    }
   ],
   "source": [
    "df.FIPS_NO = df.FIPS_NO.astype('float')\n",
    "df.YEAR = df.YEAR.astype('float')\n",
    "df.PH = df.PH.astype('float')\n",
    "df.BUPH = df.BUPH.astype('float')\n",
    "df.P = df.P.astype('float')\n",
    "df.K = df.K.astype('float')\n",
    "df.ACRES = df.ACRES.astype('float')\n",
    "df.info()"
   ]
  },
  {
   "cell_type": "markdown",
   "metadata": {},
   "source": [
    "#### First need to convert FIPS_NO and YEAR into Float type before they can be converted into int32."
   ]
  },
  {
   "cell_type": "code",
   "execution_count": 123,
   "metadata": {},
   "outputs": [],
   "source": [
    "df.FIPS_NO = df.FIPS_NO.astype('int32')\n",
    "df.YEAR = df.YEAR.astype('int32')"
   ]
  },
  {
   "cell_type": "code",
   "execution_count": 124,
   "metadata": {},
   "outputs": [
    {
     "name": "stdout",
     "output_type": "stream",
     "text": [
      "<class 'pandas.core.frame.DataFrame'>\n",
      "RangeIndex: 1190126 entries, 0 to 1190125\n",
      "Data columns (total 14 columns):\n",
      " #   Column   Non-Null Count    Dtype  \n",
      "---  ------   --------------    -----  \n",
      " 0   FIPS_NO  1190126 non-null  int32  \n",
      " 1   YEAR     1190126 non-null  int32  \n",
      " 2   FM       1190052 non-null  object \n",
      " 3   COUNTY   1190126 non-null  object \n",
      " 4   AREA     1190126 non-null  object \n",
      " 5   PH       1187607 non-null  float64\n",
      " 6   BUPH     1056246 non-null  float64\n",
      " 7   P        1187473 non-null  float64\n",
      " 8   K        1187494 non-null  float64\n",
      " 9   CA       969266 non-null   object \n",
      " 10  MG       969725 non-null   object \n",
      " 11  ZN       967041 non-null   object \n",
      " 12  ACRES    525128 non-null   float64\n",
      " 13  CROP     1183431 non-null  object \n",
      "dtypes: float64(5), int32(2), object(7)\n",
      "memory usage: 118.0+ MB\n"
     ]
    }
   ],
   "source": [
    "df.info()"
   ]
  },
  {
   "cell_type": "markdown",
   "metadata": {},
   "source": [
    "#### Drop CA, MG, ZN"
   ]
  },
  {
   "cell_type": "code",
   "execution_count": 125,
   "metadata": {},
   "outputs": [],
   "source": [
    "df = df.drop(['CA','MG','ZN'], axis=1)"
   ]
  },
  {
   "cell_type": "code",
   "execution_count": 126,
   "metadata": {},
   "outputs": [
    {
     "name": "stdout",
     "output_type": "stream",
     "text": [
      "<class 'pandas.core.frame.DataFrame'>\n",
      "RangeIndex: 1190126 entries, 0 to 1190125\n",
      "Data columns (total 11 columns):\n",
      " #   Column   Non-Null Count    Dtype  \n",
      "---  ------   --------------    -----  \n",
      " 0   FIPS_NO  1190126 non-null  int32  \n",
      " 1   YEAR     1190126 non-null  int32  \n",
      " 2   FM       1190052 non-null  object \n",
      " 3   COUNTY   1190126 non-null  object \n",
      " 4   AREA     1190126 non-null  object \n",
      " 5   PH       1187607 non-null  float64\n",
      " 6   BUPH     1056246 non-null  float64\n",
      " 7   P        1187473 non-null  float64\n",
      " 8   K        1187494 non-null  float64\n",
      " 9   ACRES    525128 non-null   float64\n",
      " 10  CROP     1183431 non-null  object \n",
      "dtypes: float64(5), int32(2), object(4)\n",
      "memory usage: 90.8+ MB\n"
     ]
    }
   ],
   "source": [
    "df.info()"
   ]
  },
  {
   "cell_type": "markdown",
   "metadata": {},
   "source": [
    "#### Check the maximum and minimum values for P and K "
   ]
  },
  {
   "cell_type": "code",
   "execution_count": 127,
   "metadata": {},
   "outputs": [
    {
     "name": "stdout",
     "output_type": "stream",
     "text": [
      "max P = 21658.0 min P = -9.0\n",
      "max K 60452.0 min K = -26.0\n"
     ]
    }
   ],
   "source": [
    "print(\"max P =\", df.P.max(), \"min P =\",df.P.min())\n",
    "print(\"max K\" , df.K.max(), \"min K =\", df.K.min())"
   ]
  },
  {
   "cell_type": "markdown",
   "metadata": {},
   "source": [
    "#### Remove values less than zero and above 9999"
   ]
  },
  {
   "cell_type": "code",
   "execution_count": 128,
   "metadata": {},
   "outputs": [],
   "source": [
    "df = df[~(df['P'] < 0)]\n",
    "df = df[~(df['K'] < 0)]\n",
    "df = df[~(df['P'] >= 9999)]\n",
    "df = df[~(df['K'] >= 9999)]\n"
   ]
  },
  {
   "cell_type": "code",
   "execution_count": 129,
   "metadata": {},
   "outputs": [
    {
     "name": "stdout",
     "output_type": "stream",
     "text": [
      "max P = 9778.0 min P = 0.0\n",
      "max K 9964.0 min K = 1.0\n"
     ]
    }
   ],
   "source": [
    "print(\"max P =\", df.P.max(), \"min P =\",df.P.min())\n",
    "print(\"max K\" , df.K.max(), \"min K =\", df.K.min())"
   ]
  },
  {
   "cell_type": "code",
   "execution_count": 130,
   "metadata": {},
   "outputs": [
    {
     "name": "stdout",
     "output_type": "stream",
     "text": [
      "<class 'pandas.core.frame.DataFrame'>\n",
      "Int64Index: 1189835 entries, 0 to 1190125\n",
      "Data columns (total 11 columns):\n",
      " #   Column   Non-Null Count    Dtype  \n",
      "---  ------   --------------    -----  \n",
      " 0   FIPS_NO  1189835 non-null  int32  \n",
      " 1   YEAR     1189835 non-null  int32  \n",
      " 2   FM       1189761 non-null  object \n",
      " 3   COUNTY   1189835 non-null  object \n",
      " 4   AREA     1189835 non-null  object \n",
      " 5   PH       1187330 non-null  float64\n",
      " 6   BUPH     1055974 non-null  float64\n",
      " 7   P        1187182 non-null  float64\n",
      " 8   K        1187203 non-null  float64\n",
      " 9   ACRES    525035 non-null   float64\n",
      " 10  CROP     1183141 non-null  object \n",
      "dtypes: float64(5), int32(2), object(4)\n",
      "memory usage: 99.9+ MB\n"
     ]
    }
   ],
   "source": [
    "df.info()"
   ]
  },
  {
   "cell_type": "markdown",
   "metadata": {},
   "source": [
    "#### Select agricultural \"A\" and commercial \"C\" types from FM column. Append df together."
   ]
  },
  {
   "cell_type": "code",
   "execution_count": 131,
   "metadata": {},
   "outputs": [],
   "source": [
    "df1 = df.loc[(df['FM'] == 'A')]\n",
    "df2 = df.loc[(df['FM'] == 'C')]\n",
    "df3 = df1.append(df2, ignore_index=True)"
   ]
  },
  {
   "cell_type": "code",
   "execution_count": 132,
   "metadata": {},
   "outputs": [
    {
     "name": "stdout",
     "output_type": "stream",
     "text": [
      "<class 'pandas.core.frame.DataFrame'>\n",
      "Int64Index: 941637 entries, 0 to 1190125\n",
      "Data columns (total 11 columns):\n",
      " #   Column   Non-Null Count   Dtype  \n",
      "---  ------   --------------   -----  \n",
      " 0   FIPS_NO  941637 non-null  int32  \n",
      " 1   YEAR     941637 non-null  int32  \n",
      " 2   FM       941637 non-null  object \n",
      " 3   COUNTY   941637 non-null  object \n",
      " 4   AREA     941637 non-null  object \n",
      " 5   PH       940288 non-null  float64\n",
      " 6   BUPH     836405 non-null  float64\n",
      " 7   P        940284 non-null  float64\n",
      " 8   K        940295 non-null  float64\n",
      " 9   ACRES    511570 non-null  float64\n",
      " 10  CROP     938347 non-null  object \n",
      "dtypes: float64(5), int32(2), object(4)\n",
      "memory usage: 79.0+ MB\n",
      "None\n",
      "<class 'pandas.core.frame.DataFrame'>\n",
      "Int64Index: 21910 entries, 153 to 1190012\n",
      "Data columns (total 11 columns):\n",
      " #   Column   Non-Null Count  Dtype  \n",
      "---  ------   --------------  -----  \n",
      " 0   FIPS_NO  21910 non-null  int32  \n",
      " 1   YEAR     21910 non-null  int32  \n",
      " 2   FM       21910 non-null  object \n",
      " 3   COUNTY   21910 non-null  object \n",
      " 4   AREA     21910 non-null  object \n",
      " 5   PH       21882 non-null  float64\n",
      " 6   BUPH     20540 non-null  float64\n",
      " 7   P        21881 non-null  float64\n",
      " 8   K        21883 non-null  float64\n",
      " 9   ACRES    7362 non-null   float64\n",
      " 10  CROP     21858 non-null  object \n",
      "dtypes: float64(5), int32(2), object(4)\n",
      "memory usage: 1.8+ MB\n",
      "None\n",
      "<class 'pandas.core.frame.DataFrame'>\n",
      "RangeIndex: 963547 entries, 0 to 963546\n",
      "Data columns (total 11 columns):\n",
      " #   Column   Non-Null Count   Dtype  \n",
      "---  ------   --------------   -----  \n",
      " 0   FIPS_NO  963547 non-null  int32  \n",
      " 1   YEAR     963547 non-null  int32  \n",
      " 2   FM       963547 non-null  object \n",
      " 3   COUNTY   963547 non-null  object \n",
      " 4   AREA     963547 non-null  object \n",
      " 5   PH       962170 non-null  float64\n",
      " 6   BUPH     856945 non-null  float64\n",
      " 7   P        962165 non-null  float64\n",
      " 8   K        962178 non-null  float64\n",
      " 9   ACRES    518932 non-null  float64\n",
      " 10  CROP     960205 non-null  object \n",
      "dtypes: float64(5), int32(2), object(4)\n",
      "memory usage: 73.5+ MB\n",
      "None\n"
     ]
    }
   ],
   "source": [
    "print(df1.info())\n",
    "print(df2.info())\n",
    "print(df3.info())\n"
   ]
  },
  {
   "cell_type": "markdown",
   "metadata": {},
   "source": [
    "#### Drop null values from CROP, P, K."
   ]
  },
  {
   "cell_type": "code",
   "execution_count": 133,
   "metadata": {},
   "outputs": [
    {
     "name": "stdout",
     "output_type": "stream",
     "text": [
      "<class 'pandas.core.frame.DataFrame'>\n",
      "Int64Index: 958826 entries, 0 to 963546\n",
      "Data columns (total 11 columns):\n",
      " #   Column   Non-Null Count   Dtype  \n",
      "---  ------   --------------   -----  \n",
      " 0   FIPS_NO  958826 non-null  int32  \n",
      " 1   YEAR     958826 non-null  int32  \n",
      " 2   FM       958826 non-null  object \n",
      " 3   COUNTY   958826 non-null  object \n",
      " 4   AREA     958826 non-null  object \n",
      " 5   PH       958813 non-null  float64\n",
      " 6   BUPH     854104 non-null  float64\n",
      " 7   P        958826 non-null  float64\n",
      " 8   K        958826 non-null  float64\n",
      " 9   ACRES    517097 non-null  float64\n",
      " 10  CROP     958826 non-null  object \n",
      "dtypes: float64(5), int32(2), object(4)\n",
      "memory usage: 80.5+ MB\n"
     ]
    }
   ],
   "source": [
    "df3.drop(df3[df3['CROP'].isnull()].index, inplace=True)\n",
    "df3.drop(df3[df3['P'].isnull()].index, inplace=True)\n",
    "df3.drop(df3[df3['K'].isnull()].index, inplace=True)\n",
    "df3.info()"
   ]
  },
  {
   "cell_type": "code",
   "execution_count": null,
   "metadata": {},
   "outputs": [],
   "source": []
  },
  {
   "cell_type": "markdown",
   "metadata": {},
   "source": [
    "#### Resort and index dataframe."
   ]
  },
  {
   "cell_type": "code",
   "execution_count": 134,
   "metadata": {},
   "outputs": [
    {
     "data": {
      "text/html": [
       "<div>\n",
       "<style scoped>\n",
       "    .dataframe tbody tr th:only-of-type {\n",
       "        vertical-align: middle;\n",
       "    }\n",
       "\n",
       "    .dataframe tbody tr th {\n",
       "        vertical-align: top;\n",
       "    }\n",
       "\n",
       "    .dataframe thead th {\n",
       "        text-align: right;\n",
       "    }\n",
       "</style>\n",
       "<table border=\"1\" class=\"dataframe\">\n",
       "  <thead>\n",
       "    <tr style=\"text-align: right;\">\n",
       "      <th></th>\n",
       "      <th>FIPS_NO</th>\n",
       "      <th>COUNTY</th>\n",
       "      <th>AREA</th>\n",
       "      <th>YEAR</th>\n",
       "      <th>CROP</th>\n",
       "      <th>ACRES</th>\n",
       "      <th>PH</th>\n",
       "      <th>BUPH</th>\n",
       "      <th>P</th>\n",
       "      <th>K</th>\n",
       "    </tr>\n",
       "  </thead>\n",
       "  <tbody>\n",
       "    <tr>\n",
       "      <th>0</th>\n",
       "      <td>1</td>\n",
       "      <td>ADAIR</td>\n",
       "      <td>Eastern Pennyroyal</td>\n",
       "      <td>1990</td>\n",
       "      <td>Alfalfa</td>\n",
       "      <td>18.0</td>\n",
       "      <td>7.15</td>\n",
       "      <td>7.23</td>\n",
       "      <td>28.0</td>\n",
       "      <td>158.0</td>\n",
       "    </tr>\n",
       "    <tr>\n",
       "      <th>1</th>\n",
       "      <td>1</td>\n",
       "      <td>ADAIR</td>\n",
       "      <td>Eastern Pennyroyal</td>\n",
       "      <td>1990</td>\n",
       "      <td>Alfalfa</td>\n",
       "      <td>15.0</td>\n",
       "      <td>6.95</td>\n",
       "      <td>7.22</td>\n",
       "      <td>88.0</td>\n",
       "      <td>134.0</td>\n",
       "    </tr>\n",
       "    <tr>\n",
       "      <th>2</th>\n",
       "      <td>1</td>\n",
       "      <td>ADAIR</td>\n",
       "      <td>Eastern Pennyroyal</td>\n",
       "      <td>1990</td>\n",
       "      <td>Alfalfa</td>\n",
       "      <td>16.0</td>\n",
       "      <td>6.26</td>\n",
       "      <td>6.94</td>\n",
       "      <td>70.0</td>\n",
       "      <td>256.0</td>\n",
       "    </tr>\n",
       "    <tr>\n",
       "      <th>3</th>\n",
       "      <td>1</td>\n",
       "      <td>ADAIR</td>\n",
       "      <td>Eastern Pennyroyal</td>\n",
       "      <td>1990</td>\n",
       "      <td>Alfalfa</td>\n",
       "      <td>6.0</td>\n",
       "      <td>5.67</td>\n",
       "      <td>6.69</td>\n",
       "      <td>161.0</td>\n",
       "      <td>611.0</td>\n",
       "    </tr>\n",
       "    <tr>\n",
       "      <th>4</th>\n",
       "      <td>1</td>\n",
       "      <td>ADAIR</td>\n",
       "      <td>Eastern Pennyroyal</td>\n",
       "      <td>1990</td>\n",
       "      <td>Alfalfa</td>\n",
       "      <td>25.0</td>\n",
       "      <td>7.26</td>\n",
       "      <td>7.47</td>\n",
       "      <td>105.0</td>\n",
       "      <td>315.0</td>\n",
       "    </tr>\n",
       "  </tbody>\n",
       "</table>\n",
       "</div>"
      ],
      "text/plain": [
       "   FIPS_NO COUNTY                AREA  YEAR     CROP  ACRES    PH  BUPH  \\\n",
       "0        1  ADAIR  Eastern Pennyroyal  1990  Alfalfa   18.0  7.15  7.23   \n",
       "1        1  ADAIR  Eastern Pennyroyal  1990  Alfalfa   15.0  6.95  7.22   \n",
       "2        1  ADAIR  Eastern Pennyroyal  1990  Alfalfa   16.0  6.26  6.94   \n",
       "3        1  ADAIR  Eastern Pennyroyal  1990  Alfalfa    6.0  5.67  6.69   \n",
       "4        1  ADAIR  Eastern Pennyroyal  1990  Alfalfa   25.0  7.26  7.47   \n",
       "\n",
       "       P      K  \n",
       "0   28.0  158.0  \n",
       "1   88.0  134.0  \n",
       "2   70.0  256.0  \n",
       "3  161.0  611.0  \n",
       "4  105.0  315.0  "
      ]
     },
     "execution_count": 134,
     "metadata": {},
     "output_type": "execute_result"
    }
   ],
   "source": [
    "df = df3[['FIPS_NO','COUNTY','AREA','YEAR','CROP','ACRES', 'PH', 'BUPH', 'P', 'K', ]]\n",
    "order_by_cols = ['FIPS_NO','YEAR','CROP']\n",
    "df = df.sort_values(by=order_by_cols, ascending=[True,True,True]).copy()\n",
    "df.reset_index(drop=True,inplace=True)\n",
    "df.head()"
   ]
  },
  {
   "cell_type": "code",
   "execution_count": 135,
   "metadata": {},
   "outputs": [
    {
     "name": "stdout",
     "output_type": "stream",
     "text": [
      "<class 'pandas.core.frame.DataFrame'>\n",
      "RangeIndex: 958826 entries, 0 to 958825\n",
      "Data columns (total 10 columns):\n",
      " #   Column   Non-Null Count   Dtype  \n",
      "---  ------   --------------   -----  \n",
      " 0   FIPS_NO  958826 non-null  int32  \n",
      " 1   COUNTY   958826 non-null  object \n",
      " 2   AREA     958826 non-null  object \n",
      " 3   YEAR     958826 non-null  int32  \n",
      " 4   CROP     958826 non-null  object \n",
      " 5   ACRES    517097 non-null  float64\n",
      " 6   PH       958813 non-null  float64\n",
      " 7   BUPH     854104 non-null  float64\n",
      " 8   P        958826 non-null  float64\n",
      " 9   K        958826 non-null  float64\n",
      "dtypes: float64(5), int32(2), object(3)\n",
      "memory usage: 65.8+ MB\n"
     ]
    }
   ],
   "source": [
    "df.info()"
   ]
  },
  {
   "cell_type": "markdown",
   "metadata": {},
   "source": [
    "#### Find unique CROP types. "
   ]
  },
  {
   "cell_type": "code",
   "execution_count": 136,
   "metadata": {},
   "outputs": [
    {
     "data": {
      "text/plain": [
       "array(['Alfalfa', 'Alfalfa/Cool Season', 'Burley Tobacco', 'Clover/Grass',\n",
       "       'Cole Crops (broccoli, etc.)', 'Corn', 'Corn, Sweet', 'Cucumbers',\n",
       "       'Fescue', 'No Info Given', 'Orchardgrass', 'Other Vegetables',\n",
       "       'Peppers (bell & pimento)', 'Red Clover', 'Timothy', 'Tomatoes',\n",
       "       'White Clover', 'White Clover/Grass', 'Rye', 'Soybeans',\n",
       "       'Tobacco Beds', 'Wheat', 'Oats', 'Red Clover/Grass',\n",
       "       'Warm Season Grass', 'Blueberries', 'Fescue/Lespedeza (multiple)',\n",
       "       'Forage Sorghum', 'Strawberries', 'Cool Season Grass',\n",
       "       'Evergreen Shrubs, Broadleaved', 'Sudangrass',\n",
       "       'Timothy/Red Clover', 'Lespedeza', 'Other Fruit & Nuts',\n",
       "       'Small Grains/Corn', 'Small Grains/Soybeans', 'Squash & Pumpkins',\n",
       "       'Birdsfoot Trefoil', 'Grain Sorghum', 'Lespedeza/Grass', 'Annuals',\n",
       "       'Fescue/Lespedeza', 'Forage Crops', 'Millet',\n",
       "       'Orchardgrass/Red Clover', 'Apples', 'Grapes', 'Peaches',\n",
       "       'Small Grains', 'Bermudagrass, common', 'Sweet Potatoes', 'Other',\n",
       "       'Azaleas', 'Brambles', 'Wheat/Soybeans', 'Potatoes',\n",
       "       'Warm Season Annual Grass', 'Bermudagrass, improved', 'Sunflower',\n",
       "       'Fescue/White Clover', 'Sorghum/Sudangras', 'Cherries, Tart',\n",
       "       'Pears', 'Watermelons', 'Root Crops (beets, carrots,etc.)',\n",
       "       'Switchgrass', 'Muskmelons (cantaloupes)',\n",
       "       'Native Grassland Restoration', 'Wildlife Food Plot',\n",
       "       'Beans (snap,dry,lima,etc.)', 'Greens (collards, kale, etc.)',\n",
       "       'Okra', 'Asparagus', 'Eggplant', 'Hemp', 'Rhubarb',\n",
       "       'Sorghum Sudangrass', 'Dark Tobacco', 'Deciduous Shrubs',\n",
       "       'Grain Crops (multiple)', 'Pecans', 'Southern Peas', 'Bluestem',\n",
       "       'Warm Season Native Grass', 'Triticale', 'Crownvetch', 'Bluegrass',\n",
       "       'Perrenials (not bulbs)', 'Deciduous Trees', 'Walnuts',\n",
       "       'Side-oats grama', 'Canola/Soybeans', 'Cool Peas',\n",
       "       'Onions (green & bulb)', 'Conifers, pines',\n",
       "       'Orchardgrass/White Clover', 'Canola', 'Rye/Soybeans',\n",
       "       'Barley/Soybeans', 'Other Nursery plants',\n",
       "       'Evergreen Trees, Broadleaved', 'Oats/Soybeans', 'Indiangrass',\n",
       "       'Other Flowers', 'Conifers (not pines or junipers)', 'Hollies',\n",
       "       'Conifers, junipers', 'Bluegrass/White Clover', 'Bulbs', 'Barley',\n",
       "       'Wheat/Corn', 'Currants and Gooseberries', 'Triticale/Soybeans',\n",
       "       'Buffer or Filter Strip', 'Rhododendrons', 'Plums', 'Unknown'],\n",
       "      dtype=object)"
      ]
     },
     "execution_count": 136,
     "metadata": {},
     "output_type": "execute_result"
    }
   ],
   "source": [
    "croptypes = df.CROP.unique()\n",
    "croptypes"
   ]
  },
  {
   "cell_type": "markdown",
   "metadata": {},
   "source": [
    "## Select CROP based on AGR-1 crop types."
   ]
  },
  {
   "cell_type": "markdown",
   "metadata": {},
   "source": [
    "### Corn"
   ]
  },
  {
   "cell_type": "code",
   "execution_count": 137,
   "metadata": {},
   "outputs": [
    {
     "name": "stdout",
     "output_type": "stream",
     "text": [
      "<class 'pandas.core.frame.DataFrame'>\n",
      "Int64Index: 173155 entries, 155 to 958722\n",
      "Data columns (total 10 columns):\n",
      " #   Column   Non-Null Count   Dtype  \n",
      "---  ------   --------------   -----  \n",
      " 0   FIPS_NO  173155 non-null  int32  \n",
      " 1   COUNTY   173155 non-null  object \n",
      " 2   AREA     173155 non-null  object \n",
      " 3   YEAR     173155 non-null  int32  \n",
      " 4   CROP     173155 non-null  object \n",
      " 5   ACRES    89557 non-null   float64\n",
      " 6   PH       173155 non-null  float64\n",
      " 7   BUPH     148991 non-null  float64\n",
      " 8   P        173155 non-null  float64\n",
      " 9   K        173155 non-null  float64\n",
      "dtypes: float64(5), int32(2), object(3)\n",
      "memory usage: 13.2+ MB\n",
      "None\n"
     ]
    },
    {
     "data": {
      "text/html": [
       "<div>\n",
       "<style scoped>\n",
       "    .dataframe tbody tr th:only-of-type {\n",
       "        vertical-align: middle;\n",
       "    }\n",
       "\n",
       "    .dataframe tbody tr th {\n",
       "        vertical-align: top;\n",
       "    }\n",
       "\n",
       "    .dataframe thead th {\n",
       "        text-align: right;\n",
       "    }\n",
       "</style>\n",
       "<table border=\"1\" class=\"dataframe\">\n",
       "  <thead>\n",
       "    <tr style=\"text-align: right;\">\n",
       "      <th></th>\n",
       "      <th>FIPS_NO</th>\n",
       "      <th>COUNTY</th>\n",
       "      <th>AREA</th>\n",
       "      <th>YEAR</th>\n",
       "      <th>CROP</th>\n",
       "      <th>ACRES</th>\n",
       "      <th>PH</th>\n",
       "      <th>BUPH</th>\n",
       "      <th>P</th>\n",
       "      <th>K</th>\n",
       "    </tr>\n",
       "  </thead>\n",
       "  <tbody>\n",
       "    <tr>\n",
       "      <th>155</th>\n",
       "      <td>1</td>\n",
       "      <td>ADAIR</td>\n",
       "      <td>Eastern Pennyroyal</td>\n",
       "      <td>1990</td>\n",
       "      <td>Corn</td>\n",
       "      <td>15.0</td>\n",
       "      <td>7.13</td>\n",
       "      <td>7.29</td>\n",
       "      <td>37.0</td>\n",
       "      <td>146.0</td>\n",
       "    </tr>\n",
       "    <tr>\n",
       "      <th>156</th>\n",
       "      <td>1</td>\n",
       "      <td>ADAIR</td>\n",
       "      <td>Eastern Pennyroyal</td>\n",
       "      <td>1990</td>\n",
       "      <td>Corn</td>\n",
       "      <td>12.0</td>\n",
       "      <td>7.24</td>\n",
       "      <td>7.29</td>\n",
       "      <td>93.0</td>\n",
       "      <td>105.0</td>\n",
       "    </tr>\n",
       "    <tr>\n",
       "      <th>157</th>\n",
       "      <td>1</td>\n",
       "      <td>ADAIR</td>\n",
       "      <td>Eastern Pennyroyal</td>\n",
       "      <td>1990</td>\n",
       "      <td>Corn</td>\n",
       "      <td>27.0</td>\n",
       "      <td>5.91</td>\n",
       "      <td>6.85</td>\n",
       "      <td>25.0</td>\n",
       "      <td>252.0</td>\n",
       "    </tr>\n",
       "    <tr>\n",
       "      <th>158</th>\n",
       "      <td>1</td>\n",
       "      <td>ADAIR</td>\n",
       "      <td>Eastern Pennyroyal</td>\n",
       "      <td>1990</td>\n",
       "      <td>Corn</td>\n",
       "      <td>14.0</td>\n",
       "      <td>5.81</td>\n",
       "      <td>6.74</td>\n",
       "      <td>24.0</td>\n",
       "      <td>121.0</td>\n",
       "    </tr>\n",
       "    <tr>\n",
       "      <th>159</th>\n",
       "      <td>1</td>\n",
       "      <td>ADAIR</td>\n",
       "      <td>Eastern Pennyroyal</td>\n",
       "      <td>1990</td>\n",
       "      <td>Corn</td>\n",
       "      <td>7.0</td>\n",
       "      <td>5.39</td>\n",
       "      <td>6.67</td>\n",
       "      <td>92.0</td>\n",
       "      <td>283.0</td>\n",
       "    </tr>\n",
       "  </tbody>\n",
       "</table>\n",
       "</div>"
      ],
      "text/plain": [
       "     FIPS_NO COUNTY                AREA  YEAR  CROP  ACRES    PH  BUPH     P  \\\n",
       "155        1  ADAIR  Eastern Pennyroyal  1990  Corn   15.0  7.13  7.29  37.0   \n",
       "156        1  ADAIR  Eastern Pennyroyal  1990  Corn   12.0  7.24  7.29  93.0   \n",
       "157        1  ADAIR  Eastern Pennyroyal  1990  Corn   27.0  5.91  6.85  25.0   \n",
       "158        1  ADAIR  Eastern Pennyroyal  1990  Corn   14.0  5.81  6.74  24.0   \n",
       "159        1  ADAIR  Eastern Pennyroyal  1990  Corn    7.0  5.39  6.67  92.0   \n",
       "\n",
       "         K  \n",
       "155  146.0  \n",
       "156  105.0  \n",
       "157  252.0  \n",
       "158  121.0  \n",
       "159  283.0  "
      ]
     },
     "execution_count": 137,
     "metadata": {},
     "output_type": "execute_result"
    }
   ],
   "source": [
    "df_corn = df.loc[(df['CROP'] == 'Corn')]\n",
    "print(df_corn.info())\n",
    "df_corn.head()"
   ]
  },
  {
   "cell_type": "markdown",
   "metadata": {},
   "source": [
    "#### Create dataframe for nutrients phosphorus (P) and potassium (K)."
   ]
  },
  {
   "cell_type": "code",
   "execution_count": 138,
   "metadata": {},
   "outputs": [
    {
     "name": "stdout",
     "output_type": "stream",
     "text": [
      "    COUNTY  YEAR     P\n",
      "155  ADAIR  1990  37.0\n",
      "156  ADAIR  1990  93.0\n",
      "157  ADAIR  1990  25.0\n",
      "158  ADAIR  1990  24.0\n",
      "159  ADAIR  1990  92.0\n",
      "    COUNTY  YEAR      K\n",
      "155  ADAIR  1990  146.0\n",
      "156  ADAIR  1990  105.0\n",
      "157  ADAIR  1990  252.0\n",
      "158  ADAIR  1990  121.0\n",
      "159  ADAIR  1990  283.0\n"
     ]
    }
   ],
   "source": [
    "df_corn_p = df_corn[['COUNTY','YEAR','P']].copy()\n",
    "df_corn_k = df_corn[['COUNTY','YEAR','K']].copy()\n",
    "print(df_corn_p.head())\n",
    "print(df_corn_k.head())\n"
   ]
  },
  {
   "cell_type": "markdown",
   "metadata": {},
   "source": [
    "#### Set categories for P and K values to very low, low, medium, high, very high. Base values from AGR-1."
   ]
  },
  {
   "cell_type": "markdown",
   "metadata": {},
   "source": [
    "#### Categories for P\n",
    "        Cat      Title       Break\n",
    "        -------------------------------------\n",
    "        VL       very low    P<= 5\n",
    "        L        low         P>5 & P<=27\n",
    "        M        medium      P>27 & P<=60\n",
    "        H        high        P>60\n",
    "\n",
    "#### Categories for K\n",
    "        Cat      Title      Break\n",
    "       --------------------------------------\n",
    "        VL       very low   K< 100\n",
    "        L        low        K>=100 & K <=190\n",
    "        M        medium     K>=191 & K <=300\n",
    "        H        high       K>=301 & K <=420\n",
    "        VH       very high  K>420"
   ]
  },
  {
   "cell_type": "code",
   "execution_count": 139,
   "metadata": {},
   "outputs": [
    {
     "data": {
      "text/html": [
       "<div>\n",
       "<style scoped>\n",
       "    .dataframe tbody tr th:only-of-type {\n",
       "        vertical-align: middle;\n",
       "    }\n",
       "\n",
       "    .dataframe tbody tr th {\n",
       "        vertical-align: top;\n",
       "    }\n",
       "\n",
       "    .dataframe thead th {\n",
       "        text-align: right;\n",
       "    }\n",
       "</style>\n",
       "<table border=\"1\" class=\"dataframe\">\n",
       "  <thead>\n",
       "    <tr style=\"text-align: right;\">\n",
       "      <th></th>\n",
       "      <th>COUNTY</th>\n",
       "      <th>YEAR</th>\n",
       "      <th>P</th>\n",
       "      <th>CAT_P</th>\n",
       "    </tr>\n",
       "  </thead>\n",
       "  <tbody>\n",
       "    <tr>\n",
       "      <th>155</th>\n",
       "      <td>ADAIR</td>\n",
       "      <td>1990</td>\n",
       "      <td>37.0</td>\n",
       "      <td>M</td>\n",
       "    </tr>\n",
       "    <tr>\n",
       "      <th>156</th>\n",
       "      <td>ADAIR</td>\n",
       "      <td>1990</td>\n",
       "      <td>93.0</td>\n",
       "      <td>H</td>\n",
       "    </tr>\n",
       "    <tr>\n",
       "      <th>157</th>\n",
       "      <td>ADAIR</td>\n",
       "      <td>1990</td>\n",
       "      <td>25.0</td>\n",
       "      <td>L</td>\n",
       "    </tr>\n",
       "    <tr>\n",
       "      <th>158</th>\n",
       "      <td>ADAIR</td>\n",
       "      <td>1990</td>\n",
       "      <td>24.0</td>\n",
       "      <td>L</td>\n",
       "    </tr>\n",
       "    <tr>\n",
       "      <th>159</th>\n",
       "      <td>ADAIR</td>\n",
       "      <td>1990</td>\n",
       "      <td>92.0</td>\n",
       "      <td>H</td>\n",
       "    </tr>\n",
       "  </tbody>\n",
       "</table>\n",
       "</div>"
      ],
      "text/plain": [
       "    COUNTY  YEAR     P CAT_P\n",
       "155  ADAIR  1990  37.0     M\n",
       "156  ADAIR  1990  93.0     H\n",
       "157  ADAIR  1990  25.0     L\n",
       "158  ADAIR  1990  24.0     L\n",
       "159  ADAIR  1990  92.0     H"
      ]
     },
     "execution_count": 139,
     "metadata": {},
     "output_type": "execute_result"
    }
   ],
   "source": [
    "df_corn_p['CAT_P'] = ''\n",
    "df_corn_p['CAT_P'] = np.where(df_corn_p.P <= 5, 'VL', df_corn_p.CAT_P)\n",
    "df_corn_p['CAT_P'] = np.where(((df_corn_p.P > 5) & (df_corn_p.P <= 27)), 'L', df_corn_p.CAT_P)\n",
    "df_corn_p['CAT_P'] = np.where(((df_corn_p.P > 27) & (df_corn_p.P <= 60)), 'M', df_corn_p.CAT_P)\n",
    "df_corn_p['CAT_P'] = np.where((df_corn_p.P > 60), 'H', df_corn_p.CAT_P)\n",
    "df_corn_p.head()"
   ]
  },
  {
   "cell_type": "code",
   "execution_count": 140,
   "metadata": {},
   "outputs": [
    {
     "data": {
      "text/html": [
       "<div>\n",
       "<style scoped>\n",
       "    .dataframe tbody tr th:only-of-type {\n",
       "        vertical-align: middle;\n",
       "    }\n",
       "\n",
       "    .dataframe tbody tr th {\n",
       "        vertical-align: top;\n",
       "    }\n",
       "\n",
       "    .dataframe thead th {\n",
       "        text-align: right;\n",
       "    }\n",
       "</style>\n",
       "<table border=\"1\" class=\"dataframe\">\n",
       "  <thead>\n",
       "    <tr style=\"text-align: right;\">\n",
       "      <th></th>\n",
       "      <th>COUNTY</th>\n",
       "      <th>YEAR</th>\n",
       "      <th>K</th>\n",
       "      <th>CAT_K</th>\n",
       "    </tr>\n",
       "  </thead>\n",
       "  <tbody>\n",
       "    <tr>\n",
       "      <th>155</th>\n",
       "      <td>ADAIR</td>\n",
       "      <td>1990</td>\n",
       "      <td>146.0</td>\n",
       "      <td>L</td>\n",
       "    </tr>\n",
       "    <tr>\n",
       "      <th>156</th>\n",
       "      <td>ADAIR</td>\n",
       "      <td>1990</td>\n",
       "      <td>105.0</td>\n",
       "      <td>L</td>\n",
       "    </tr>\n",
       "    <tr>\n",
       "      <th>157</th>\n",
       "      <td>ADAIR</td>\n",
       "      <td>1990</td>\n",
       "      <td>252.0</td>\n",
       "      <td>M</td>\n",
       "    </tr>\n",
       "    <tr>\n",
       "      <th>158</th>\n",
       "      <td>ADAIR</td>\n",
       "      <td>1990</td>\n",
       "      <td>121.0</td>\n",
       "      <td>L</td>\n",
       "    </tr>\n",
       "    <tr>\n",
       "      <th>159</th>\n",
       "      <td>ADAIR</td>\n",
       "      <td>1990</td>\n",
       "      <td>283.0</td>\n",
       "      <td>M</td>\n",
       "    </tr>\n",
       "  </tbody>\n",
       "</table>\n",
       "</div>"
      ],
      "text/plain": [
       "    COUNTY  YEAR      K CAT_K\n",
       "155  ADAIR  1990  146.0     L\n",
       "156  ADAIR  1990  105.0     L\n",
       "157  ADAIR  1990  252.0     M\n",
       "158  ADAIR  1990  121.0     L\n",
       "159  ADAIR  1990  283.0     M"
      ]
     },
     "execution_count": 140,
     "metadata": {},
     "output_type": "execute_result"
    }
   ],
   "source": [
    "df_corn_k['CAT_K'] = ''\n",
    "df_corn_k['CAT_K'] = np.where(df_corn_k.K <= 100, 'VL', df_corn_k.CAT_K)\n",
    "df_corn_k['CAT_K'] = np.where(((df_corn_k.K > 100) & (df_corn_k.K <= 190)), 'L', df_corn_k.CAT_K)\n",
    "df_corn_k['CAT_K'] = np.where(((df_corn_k.K > 190) & (df_corn_k.K <= 300)), 'M', df_corn_k.CAT_K)\n",
    "df_corn_k['CAT_K'] = np.where(((df_corn_k.K > 300) & (df_corn_k.K <= 420)), 'H', df_corn_k.CAT_K)\n",
    "df_corn_k['CAT_K'] = np.where((df_corn_k.K > 420), 'VH', df_corn_k.CAT_K)\n",
    "df_corn_k.head()"
   ]
  },
  {
   "cell_type": "markdown",
   "metadata": {},
   "source": [
    "#### Create pivot table to sort categories by year and County for each nutrient."
   ]
  },
  {
   "cell_type": "code",
   "execution_count": 141,
   "metadata": {},
   "outputs": [
    {
     "name": "stdout",
     "output_type": "stream",
     "text": [
      "               P                                                               \\\n",
      "         average                                                                \n",
      "YEAR        1990                       1991                       1992          \n",
      "CAT_P          H      L      M   VL       H      L      M   VL       H      L   \n",
      "COUNTY                                                                          \n",
      "ADAIR     119.47  17.50  39.91  0.0  171.62  21.00  45.75  0.0  138.56  23.25   \n",
      "ALLEN     115.67  17.00  42.67  0.0  130.78  18.25  44.50  0.0  147.89  19.20   \n",
      "ANDERSON  244.80  10.67  55.00  5.0  333.94  22.00  44.78  0.0  290.56  20.00   \n",
      "BALLARD   109.08   0.00  48.25  0.0  108.33  18.50  42.79  0.0  107.22  20.50   \n",
      "BARREN    121.90  18.11  42.50  0.0  120.20  14.22  42.66  0.0  130.43  17.67   \n",
      "\n",
      "          ...                                         \n",
      "          ...  len                                    \n",
      "YEAR      ... 2017    2018           2019             \n",
      "CAT_P     ...    M VL    H  L   M VL    H   L   M VL  \n",
      "COUNTY    ...                                         \n",
      "ADAIR     ...   20  0   31  7  28  0   51  11  15  1  \n",
      "ALLEN     ...    4  0    1  0   2  0    1   4   2  0  \n",
      "ANDERSON  ...    0  0    2  2   2  0    8   0   1  0  \n",
      "BALLARD   ...   10  0    7  0  17  0   12   4  23  0  \n",
      "BARREN    ...    4  0   10  3   9  0    2   1   8  1  \n",
      "\n",
      "[5 rows x 240 columns]\n",
      "               K                                                        \\\n",
      "         average                                                         \n",
      "YEAR        1990                                  1991                   \n",
      "CAT_K          H       L       M      VH    VL       H       L       M   \n",
      "COUNTY                                                                   \n",
      "ADAIR     357.67  139.42  252.67  439.00  89.5  360.20  143.25  241.83   \n",
      "ALLEN     362.50  141.60  252.62  519.00  58.0  329.55  173.33  250.94   \n",
      "ANDERSON  367.00  150.40  266.00  525.50  89.0  335.11  174.33  243.36   \n",
      "BALLARD   335.00  159.80  251.64  501.00   0.0  339.00  170.88  243.43   \n",
      "BARREN    352.28  163.33  243.41  485.22   0.0  347.21  156.61  242.31   \n",
      "\n",
      "                        ...                                        \n",
      "                        ...  len                                   \n",
      "YEAR                    ... 2018               2019                \n",
      "CAT_K         VH    VL  ...    H   L   M VH VL    H   L   M VH VL  \n",
      "COUNTY                  ...                                        \n",
      "ADAIR     527.00  88.5  ...    6  20  33  1  6    7  35  28  0  8  \n",
      "ALLEN     498.40   0.0  ...    0   0   2  0  1    0   4   1  0  2  \n",
      "ANDERSON  629.00   0.0  ...    0   1   3  1  1    0   5   3  1  0  \n",
      "BALLARD   501.00   0.0  ...    3   5  15  1  0    1  14  24  0  0  \n",
      "BARREN    486.05  79.0  ...    7   4   8  3  0    5   2   3  1  1  \n",
      "\n",
      "[5 rows x 300 columns]\n"
     ]
    },
    {
     "data": {
      "text/html": [
       "<div>\n",
       "<style scoped>\n",
       "    .dataframe tbody tr th:only-of-type {\n",
       "        vertical-align: middle;\n",
       "    }\n",
       "\n",
       "    .dataframe tbody tr th {\n",
       "        vertical-align: top;\n",
       "    }\n",
       "\n",
       "    .dataframe thead tr th {\n",
       "        text-align: left;\n",
       "    }\n",
       "\n",
       "    .dataframe thead tr:last-of-type th {\n",
       "        text-align: right;\n",
       "    }\n",
       "</style>\n",
       "<table border=\"1\" class=\"dataframe\">\n",
       "  <thead>\n",
       "    <tr>\n",
       "      <th></th>\n",
       "      <th colspan=\"21\" halign=\"left\">P</th>\n",
       "    </tr>\n",
       "    <tr>\n",
       "      <th></th>\n",
       "      <th colspan=\"10\" halign=\"left\">average</th>\n",
       "      <th>...</th>\n",
       "      <th colspan=\"10\" halign=\"left\">len</th>\n",
       "    </tr>\n",
       "    <tr>\n",
       "      <th>YEAR</th>\n",
       "      <th colspan=\"4\" halign=\"left\">1990</th>\n",
       "      <th colspan=\"4\" halign=\"left\">1991</th>\n",
       "      <th colspan=\"2\" halign=\"left\">1992</th>\n",
       "      <th>...</th>\n",
       "      <th colspan=\"2\" halign=\"left\">2017</th>\n",
       "      <th colspan=\"4\" halign=\"left\">2018</th>\n",
       "      <th colspan=\"4\" halign=\"left\">2019</th>\n",
       "    </tr>\n",
       "    <tr>\n",
       "      <th>CAT_P</th>\n",
       "      <th>H</th>\n",
       "      <th>L</th>\n",
       "      <th>M</th>\n",
       "      <th>VL</th>\n",
       "      <th>H</th>\n",
       "      <th>L</th>\n",
       "      <th>M</th>\n",
       "      <th>VL</th>\n",
       "      <th>H</th>\n",
       "      <th>L</th>\n",
       "      <th>...</th>\n",
       "      <th>M</th>\n",
       "      <th>VL</th>\n",
       "      <th>H</th>\n",
       "      <th>L</th>\n",
       "      <th>M</th>\n",
       "      <th>VL</th>\n",
       "      <th>H</th>\n",
       "      <th>L</th>\n",
       "      <th>M</th>\n",
       "      <th>VL</th>\n",
       "    </tr>\n",
       "    <tr>\n",
       "      <th>COUNTY</th>\n",
       "      <th></th>\n",
       "      <th></th>\n",
       "      <th></th>\n",
       "      <th></th>\n",
       "      <th></th>\n",
       "      <th></th>\n",
       "      <th></th>\n",
       "      <th></th>\n",
       "      <th></th>\n",
       "      <th></th>\n",
       "      <th></th>\n",
       "      <th></th>\n",
       "      <th></th>\n",
       "      <th></th>\n",
       "      <th></th>\n",
       "      <th></th>\n",
       "      <th></th>\n",
       "      <th></th>\n",
       "      <th></th>\n",
       "      <th></th>\n",
       "      <th></th>\n",
       "    </tr>\n",
       "  </thead>\n",
       "  <tbody>\n",
       "    <tr>\n",
       "      <th>ADAIR</th>\n",
       "      <td>119.47</td>\n",
       "      <td>17.50</td>\n",
       "      <td>39.91</td>\n",
       "      <td>0.0</td>\n",
       "      <td>171.62</td>\n",
       "      <td>21.00</td>\n",
       "      <td>45.75</td>\n",
       "      <td>0.0</td>\n",
       "      <td>138.56</td>\n",
       "      <td>23.25</td>\n",
       "      <td>...</td>\n",
       "      <td>20</td>\n",
       "      <td>0</td>\n",
       "      <td>31</td>\n",
       "      <td>7</td>\n",
       "      <td>28</td>\n",
       "      <td>0</td>\n",
       "      <td>51</td>\n",
       "      <td>11</td>\n",
       "      <td>15</td>\n",
       "      <td>1</td>\n",
       "    </tr>\n",
       "    <tr>\n",
       "      <th>ALLEN</th>\n",
       "      <td>115.67</td>\n",
       "      <td>17.00</td>\n",
       "      <td>42.67</td>\n",
       "      <td>0.0</td>\n",
       "      <td>130.78</td>\n",
       "      <td>18.25</td>\n",
       "      <td>44.50</td>\n",
       "      <td>0.0</td>\n",
       "      <td>147.89</td>\n",
       "      <td>19.20</td>\n",
       "      <td>...</td>\n",
       "      <td>4</td>\n",
       "      <td>0</td>\n",
       "      <td>1</td>\n",
       "      <td>0</td>\n",
       "      <td>2</td>\n",
       "      <td>0</td>\n",
       "      <td>1</td>\n",
       "      <td>4</td>\n",
       "      <td>2</td>\n",
       "      <td>0</td>\n",
       "    </tr>\n",
       "    <tr>\n",
       "      <th>ANDERSON</th>\n",
       "      <td>244.80</td>\n",
       "      <td>10.67</td>\n",
       "      <td>55.00</td>\n",
       "      <td>5.0</td>\n",
       "      <td>333.94</td>\n",
       "      <td>22.00</td>\n",
       "      <td>44.78</td>\n",
       "      <td>0.0</td>\n",
       "      <td>290.56</td>\n",
       "      <td>20.00</td>\n",
       "      <td>...</td>\n",
       "      <td>0</td>\n",
       "      <td>0</td>\n",
       "      <td>2</td>\n",
       "      <td>2</td>\n",
       "      <td>2</td>\n",
       "      <td>0</td>\n",
       "      <td>8</td>\n",
       "      <td>0</td>\n",
       "      <td>1</td>\n",
       "      <td>0</td>\n",
       "    </tr>\n",
       "    <tr>\n",
       "      <th>BALLARD</th>\n",
       "      <td>109.08</td>\n",
       "      <td>0.00</td>\n",
       "      <td>48.25</td>\n",
       "      <td>0.0</td>\n",
       "      <td>108.33</td>\n",
       "      <td>18.50</td>\n",
       "      <td>42.79</td>\n",
       "      <td>0.0</td>\n",
       "      <td>107.22</td>\n",
       "      <td>20.50</td>\n",
       "      <td>...</td>\n",
       "      <td>10</td>\n",
       "      <td>0</td>\n",
       "      <td>7</td>\n",
       "      <td>0</td>\n",
       "      <td>17</td>\n",
       "      <td>0</td>\n",
       "      <td>12</td>\n",
       "      <td>4</td>\n",
       "      <td>23</td>\n",
       "      <td>0</td>\n",
       "    </tr>\n",
       "    <tr>\n",
       "      <th>BARREN</th>\n",
       "      <td>121.90</td>\n",
       "      <td>18.11</td>\n",
       "      <td>42.50</td>\n",
       "      <td>0.0</td>\n",
       "      <td>120.20</td>\n",
       "      <td>14.22</td>\n",
       "      <td>42.66</td>\n",
       "      <td>0.0</td>\n",
       "      <td>130.43</td>\n",
       "      <td>17.67</td>\n",
       "      <td>...</td>\n",
       "      <td>4</td>\n",
       "      <td>0</td>\n",
       "      <td>10</td>\n",
       "      <td>3</td>\n",
       "      <td>9</td>\n",
       "      <td>0</td>\n",
       "      <td>2</td>\n",
       "      <td>1</td>\n",
       "      <td>8</td>\n",
       "      <td>1</td>\n",
       "    </tr>\n",
       "  </tbody>\n",
       "</table>\n",
       "<p>5 rows × 240 columns</p>\n",
       "</div>"
      ],
      "text/plain": [
       "               P                                                               \\\n",
       "         average                                                                \n",
       "YEAR        1990                       1991                       1992          \n",
       "CAT_P          H      L      M   VL       H      L      M   VL       H      L   \n",
       "COUNTY                                                                          \n",
       "ADAIR     119.47  17.50  39.91  0.0  171.62  21.00  45.75  0.0  138.56  23.25   \n",
       "ALLEN     115.67  17.00  42.67  0.0  130.78  18.25  44.50  0.0  147.89  19.20   \n",
       "ANDERSON  244.80  10.67  55.00  5.0  333.94  22.00  44.78  0.0  290.56  20.00   \n",
       "BALLARD   109.08   0.00  48.25  0.0  108.33  18.50  42.79  0.0  107.22  20.50   \n",
       "BARREN    121.90  18.11  42.50  0.0  120.20  14.22  42.66  0.0  130.43  17.67   \n",
       "\n",
       "          ...                                         \n",
       "          ...  len                                    \n",
       "YEAR      ... 2017    2018           2019             \n",
       "CAT_P     ...    M VL    H  L   M VL    H   L   M VL  \n",
       "COUNTY    ...                                         \n",
       "ADAIR     ...   20  0   31  7  28  0   51  11  15  1  \n",
       "ALLEN     ...    4  0    1  0   2  0    1   4   2  0  \n",
       "ANDERSON  ...    0  0    2  2   2  0    8   0   1  0  \n",
       "BALLARD   ...   10  0    7  0  17  0   12   4  23  0  \n",
       "BARREN    ...    4  0   10  3   9  0    2   1   8  1  \n",
       "\n",
       "[5 rows x 240 columns]"
      ]
     },
     "execution_count": 141,
     "metadata": {},
     "output_type": "execute_result"
    }
   ],
   "source": [
    "warnings.filterwarnings(\"ignore\")\n",
    "df_corn_p = np.round( df_corn_p.pivot_table(index='COUNTY', columns=['YEAR', 'CAT_P'], values=['P'],aggfunc=(np.average,len),fill_value=0),2)\n",
    "df_corn_k = np.round( df_corn_k.pivot_table(index='COUNTY', columns=['YEAR', 'CAT_K'], values=['K'],aggfunc=(np.average,len),fill_value=0),2)\n",
    "print(df_corn_p.head())\n",
    "print(df_corn_k.head())\n",
    "df_corn_p.head()"
   ]
  },
  {
   "cell_type": "markdown",
   "metadata": {},
   "source": [
    "## Unpivot table and save to CSV file"
   ]
  },
  {
   "cell_type": "markdown",
   "metadata": {},
   "source": [
    "#### Create column names from pivot table data"
   ]
  },
  {
   "cell_type": "code",
   "execution_count": 142,
   "metadata": {},
   "outputs": [
    {
     "data": {
      "text/plain": [
       "MultiIndex([('P', 'average', 1990,  'H'),\n",
       "            ('P', 'average', 1990,  'L'),\n",
       "            ('P', 'average', 1990,  'M'),\n",
       "            ('P', 'average', 1990, 'VL'),\n",
       "            ('P', 'average', 1991,  'H'),\n",
       "            ('P', 'average', 1991,  'L'),\n",
       "            ('P', 'average', 1991,  'M'),\n",
       "            ('P', 'average', 1991, 'VL'),\n",
       "            ('P', 'average', 1992,  'H'),\n",
       "            ('P', 'average', 1992,  'L'),\n",
       "            ...\n",
       "            ('P',     'len', 2017,  'M'),\n",
       "            ('P',     'len', 2017, 'VL'),\n",
       "            ('P',     'len', 2018,  'H'),\n",
       "            ('P',     'len', 2018,  'L'),\n",
       "            ('P',     'len', 2018,  'M'),\n",
       "            ('P',     'len', 2018, 'VL'),\n",
       "            ('P',     'len', 2019,  'H'),\n",
       "            ('P',     'len', 2019,  'L'),\n",
       "            ('P',     'len', 2019,  'M'),\n",
       "            ('P',     'len', 2019, 'VL')],\n",
       "           names=[None, None, 'YEAR', 'CAT_P'], length=240)"
      ]
     },
     "execution_count": 142,
     "metadata": {},
     "output_type": "execute_result"
    }
   ],
   "source": [
    "df_corn_p.columns"
   ]
  },
  {
   "cell_type": "code",
   "execution_count": 144,
   "metadata": {},
   "outputs": [
    {
     "ename": "TypeError",
     "evalue": "sequence item 2: expected str instance, int found",
     "output_type": "error",
     "traceback": [
      "\u001b[1;31m---------------------------------------------------------------------------\u001b[0m",
      "\u001b[1;31mTypeError\u001b[0m                                 Traceback (most recent call last)",
      "\u001b[1;32m<ipython-input-144-d3aedaea2d76>\u001b[0m in \u001b[0;36m<module>\u001b[1;34m\u001b[0m\n\u001b[1;32m----> 1\u001b[1;33m \u001b[0mdf_corn_p\u001b[0m\u001b[1;33m.\u001b[0m\u001b[0mcolumns\u001b[0m \u001b[1;33m=\u001b[0m \u001b[0mlist\u001b[0m\u001b[1;33m(\u001b[0m\u001b[0mmap\u001b[0m\u001b[1;33m(\u001b[0m\u001b[1;34m\"_\"\u001b[0m\u001b[1;33m.\u001b[0m\u001b[0mjoin\u001b[0m\u001b[1;33m,\u001b[0m\u001b[0mdf_corn_p\u001b[0m\u001b[1;33m.\u001b[0m\u001b[0mcolumns\u001b[0m\u001b[1;33m)\u001b[0m\u001b[1;33m)\u001b[0m\u001b[1;33m\u001b[0m\u001b[1;33m\u001b[0m\u001b[0m\n\u001b[0m\u001b[0;32m      2\u001b[0m \u001b[0mdf_corn_k\u001b[0m\u001b[1;33m.\u001b[0m\u001b[0mcolumns\u001b[0m \u001b[1;33m=\u001b[0m \u001b[0mlist\u001b[0m\u001b[1;33m(\u001b[0m\u001b[0mmap\u001b[0m\u001b[1;33m(\u001b[0m\u001b[1;34m\"_\"\u001b[0m\u001b[1;33m.\u001b[0m\u001b[0mjoin\u001b[0m\u001b[1;33m,\u001b[0m\u001b[0mdf_corn_k\u001b[0m\u001b[1;33m.\u001b[0m\u001b[0mcolumns\u001b[0m\u001b[1;33m)\u001b[0m\u001b[1;33m)\u001b[0m\u001b[1;33m\u001b[0m\u001b[1;33m\u001b[0m\u001b[0m\n",
      "\u001b[1;31mTypeError\u001b[0m: sequence item 2: expected str instance, int found"
     ]
    }
   ],
   "source": [
    "df_corn_p.columns = list(map(\"_\".join,df_corn_p.columns))\n",
    "df_corn_k.columns = list(map(\"_\".join,df_corn_k.columns))"
   ]
  },
  {
   "cell_type": "code",
   "execution_count": null,
   "metadata": {},
   "outputs": [],
   "source": []
  }
 ],
 "metadata": {
  "kernelspec": {
   "display_name": "Python 3",
   "language": "python",
   "name": "python3"
  },
  "language_info": {
   "codemirror_mode": {
    "name": "ipython",
    "version": 3
   },
   "file_extension": ".py",
   "mimetype": "text/x-python",
   "name": "python",
   "nbconvert_exporter": "python",
   "pygments_lexer": "ipython3",
   "version": "3.8.1"
  }
 },
 "nbformat": 4,
 "nbformat_minor": 4
}
